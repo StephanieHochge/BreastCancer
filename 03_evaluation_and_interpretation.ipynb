{
 "cells": [
  {
   "cell_type": "markdown",
   "id": "7172fee7-56b4-449b-8507-a4ab2b046bc7",
   "metadata": {},
   "source": [
    "# Evaluation and Interpretation\n",
    "## I. List of Abbreviations\n",
    "| Abbreviation | Meaning |\n",
    "|---|---|\n",
    "| AP | Average precision |\n",
    "| AUC | Area under the curve |\n",
    "| Avg | Average |\n",
    "| IQR | Interquartile range |\n",
    "| SMOTE | Synthetic minority over-sampling technique |\n",
    "| VIF | Variance inflation factor |\n",
    "## II. Imports"
   ]
  },
  {
   "cell_type": "code",
   "execution_count": 1,
   "id": "342c81d2-c98e-45d4-827b-a9bf833cc1ec",
   "metadata": {},
   "outputs": [],
   "source": [
    "import pandas as pd\n",
    "import numpy as np\n",
    "\n",
    "import matplotlib.pyplot as plt\n",
    "import seaborn as sns\n",
    "\n",
    "import dice_ml\n",
    "from dice_ml import Dice\n",
    "\n",
    "from imblearn.over_sampling import SMOTE\n",
    "from imblearn.pipeline import Pipeline as ImbPipeline\n",
    "\n",
    "from sklearn.model_selection import train_test_split, cross_val_score\n",
    "from sklearn.linear_model import LogisticRegression\n",
    "from sklearn.metrics import make_scorer, f1_score, accuracy_score, recall_score, precision_score, confusion_matrix, roc_curve, auc, classification_report, precision_recall_curve, average_precision_score\n",
    "from sklearn.inspection import permutation_importance\n",
    "\n",
    "from statsmodels.stats.outliers_influence import variance_inflation_factor\n",
    "\n",
    "import src.data_preparation as dp\n",
    "\n",
    "# set seaborn theme\n",
    "custom = {\"axes.edgecolor\": \"white\", \"grid.linestyle\": \"dashed\"}\n",
    "sns.set_theme(style=\"whitegrid\", font_scale=0.8, rc=custom)\n",
    "\n",
    "# display all rows and columns of pandas DataFrames\n",
    "pd.set_option('display.max_rows', None)\n",
    "pd.set_option('display.max_columns', None)\n",
    "\n",
    "# suppress scientific notation\n",
    "pd.options.display.float_format = '{:.3f}'.format  # displays three decimals"
   ]
  },
  {
   "cell_type": "markdown",
   "id": "f3a8c2c3-ceaa-4eda-929f-3962d004ca62",
   "metadata": {},
   "source": [
    "## 1 General Data Preparation"
   ]
  },
  {
   "cell_type": "code",
   "execution_count": 2,
   "id": "d491e222-5376-4be0-9afd-d955cc7ae66a",
   "metadata": {},
   "outputs": [],
   "source": [
    "# load the data\n",
    "df = pd.read_csv(\"data/raw/Data for Task 1.csv\", index_col=\"id\")"
   ]
  },
  {
   "cell_type": "code",
   "execution_count": 3,
   "id": "c62bb413-4a5d-454d-bc27-b4792e491405",
   "metadata": {},
   "outputs": [
    {
     "data": {
      "text/plain": [
       "0    357\n",
       "1    212\n",
       "Name: diagnosis, dtype: int64"
      ]
     },
     "execution_count": 3,
     "metadata": {},
     "output_type": "execute_result"
    }
   ],
   "source": [
    "# encode the label numerically\n",
    "df[\"diagnosis\"] = df[\"diagnosis\"].map({'B': 0, 'M': 1})\n",
    "df[\"diagnosis\"].value_counts()"
   ]
  },
  {
   "cell_type": "code",
   "execution_count": 4,
   "id": "29350711-7262-4614-a64c-9e36d4b6546c",
   "metadata": {},
   "outputs": [
    {
     "data": {
      "text/html": [
       "<div>\n",
       "<style scoped>\n",
       "    .dataframe tbody tr th:only-of-type {\n",
       "        vertical-align: middle;\n",
       "    }\n",
       "\n",
       "    .dataframe tbody tr th {\n",
       "        vertical-align: top;\n",
       "    }\n",
       "\n",
       "    .dataframe thead th {\n",
       "        text-align: right;\n",
       "    }\n",
       "</style>\n",
       "<table border=\"1\" class=\"dataframe\">\n",
       "  <thead>\n",
       "    <tr style=\"text-align: right;\">\n",
       "      <th></th>\n",
       "      <th>radius_mean</th>\n",
       "      <th>texture_mean</th>\n",
       "      <th>perimeter_mean</th>\n",
       "      <th>area_mean</th>\n",
       "      <th>smoothness_mean</th>\n",
       "      <th>compactness_mean</th>\n",
       "      <th>concavity_mean</th>\n",
       "      <th>concave points_mean</th>\n",
       "      <th>symmetry_mean</th>\n",
       "      <th>fractal_dimension_mean</th>\n",
       "      <th>radius_se</th>\n",
       "      <th>texture_se</th>\n",
       "      <th>perimeter_se</th>\n",
       "      <th>area_se</th>\n",
       "      <th>smoothness_se</th>\n",
       "      <th>compactness_se</th>\n",
       "      <th>concavity_se</th>\n",
       "      <th>concave points_se</th>\n",
       "      <th>symmetry_se</th>\n",
       "      <th>fractal_dimension_se</th>\n",
       "      <th>radius_worst</th>\n",
       "      <th>texture_worst</th>\n",
       "      <th>perimeter_worst</th>\n",
       "      <th>area_worst</th>\n",
       "      <th>smoothness_worst</th>\n",
       "      <th>compactness_worst</th>\n",
       "      <th>concavity_worst</th>\n",
       "      <th>concave points_worst</th>\n",
       "      <th>symmetry_worst</th>\n",
       "      <th>fractal_dimension_worst</th>\n",
       "      <th>Unnamed: 32</th>\n",
       "      <th>diagnosis</th>\n",
       "    </tr>\n",
       "    <tr>\n",
       "      <th>id</th>\n",
       "      <th></th>\n",
       "      <th></th>\n",
       "      <th></th>\n",
       "      <th></th>\n",
       "      <th></th>\n",
       "      <th></th>\n",
       "      <th></th>\n",
       "      <th></th>\n",
       "      <th></th>\n",
       "      <th></th>\n",
       "      <th></th>\n",
       "      <th></th>\n",
       "      <th></th>\n",
       "      <th></th>\n",
       "      <th></th>\n",
       "      <th></th>\n",
       "      <th></th>\n",
       "      <th></th>\n",
       "      <th></th>\n",
       "      <th></th>\n",
       "      <th></th>\n",
       "      <th></th>\n",
       "      <th></th>\n",
       "      <th></th>\n",
       "      <th></th>\n",
       "      <th></th>\n",
       "      <th></th>\n",
       "      <th></th>\n",
       "      <th></th>\n",
       "      <th></th>\n",
       "      <th></th>\n",
       "      <th></th>\n",
       "    </tr>\n",
       "  </thead>\n",
       "  <tbody>\n",
       "    <tr>\n",
       "      <th>842302</th>\n",
       "      <td>17.990</td>\n",
       "      <td>10.380</td>\n",
       "      <td>122.800</td>\n",
       "      <td>1001.000</td>\n",
       "      <td>0.118</td>\n",
       "      <td>0.278</td>\n",
       "      <td>0.300</td>\n",
       "      <td>0.147</td>\n",
       "      <td>0.242</td>\n",
       "      <td>0.079</td>\n",
       "      <td>1.095</td>\n",
       "      <td>0.905</td>\n",
       "      <td>8.589</td>\n",
       "      <td>153.400</td>\n",
       "      <td>0.006</td>\n",
       "      <td>0.049</td>\n",
       "      <td>0.054</td>\n",
       "      <td>0.016</td>\n",
       "      <td>0.030</td>\n",
       "      <td>0.006</td>\n",
       "      <td>25.380</td>\n",
       "      <td>17.330</td>\n",
       "      <td>184.600</td>\n",
       "      <td>2019.000</td>\n",
       "      <td>0.162</td>\n",
       "      <td>0.666</td>\n",
       "      <td>0.712</td>\n",
       "      <td>0.265</td>\n",
       "      <td>0.460</td>\n",
       "      <td>0.119</td>\n",
       "      <td>NaN</td>\n",
       "      <td>1</td>\n",
       "    </tr>\n",
       "    <tr>\n",
       "      <th>842517</th>\n",
       "      <td>20.570</td>\n",
       "      <td>17.770</td>\n",
       "      <td>132.900</td>\n",
       "      <td>1326.000</td>\n",
       "      <td>0.085</td>\n",
       "      <td>0.079</td>\n",
       "      <td>0.087</td>\n",
       "      <td>0.070</td>\n",
       "      <td>0.181</td>\n",
       "      <td>0.057</td>\n",
       "      <td>0.543</td>\n",
       "      <td>0.734</td>\n",
       "      <td>3.398</td>\n",
       "      <td>74.080</td>\n",
       "      <td>0.005</td>\n",
       "      <td>0.013</td>\n",
       "      <td>0.019</td>\n",
       "      <td>0.013</td>\n",
       "      <td>0.014</td>\n",
       "      <td>0.004</td>\n",
       "      <td>24.990</td>\n",
       "      <td>23.410</td>\n",
       "      <td>158.800</td>\n",
       "      <td>1956.000</td>\n",
       "      <td>0.124</td>\n",
       "      <td>0.187</td>\n",
       "      <td>0.242</td>\n",
       "      <td>0.186</td>\n",
       "      <td>0.275</td>\n",
       "      <td>0.089</td>\n",
       "      <td>NaN</td>\n",
       "      <td>1</td>\n",
       "    </tr>\n",
       "    <tr>\n",
       "      <th>84300903</th>\n",
       "      <td>19.690</td>\n",
       "      <td>21.250</td>\n",
       "      <td>130.000</td>\n",
       "      <td>1203.000</td>\n",
       "      <td>0.110</td>\n",
       "      <td>0.160</td>\n",
       "      <td>0.197</td>\n",
       "      <td>0.128</td>\n",
       "      <td>0.207</td>\n",
       "      <td>0.060</td>\n",
       "      <td>0.746</td>\n",
       "      <td>0.787</td>\n",
       "      <td>4.585</td>\n",
       "      <td>94.030</td>\n",
       "      <td>0.006</td>\n",
       "      <td>0.040</td>\n",
       "      <td>0.038</td>\n",
       "      <td>0.021</td>\n",
       "      <td>0.022</td>\n",
       "      <td>0.005</td>\n",
       "      <td>23.570</td>\n",
       "      <td>25.530</td>\n",
       "      <td>152.500</td>\n",
       "      <td>1709.000</td>\n",
       "      <td>0.144</td>\n",
       "      <td>0.424</td>\n",
       "      <td>0.450</td>\n",
       "      <td>0.243</td>\n",
       "      <td>0.361</td>\n",
       "      <td>0.088</td>\n",
       "      <td>NaN</td>\n",
       "      <td>1</td>\n",
       "    </tr>\n",
       "    <tr>\n",
       "      <th>84348301</th>\n",
       "      <td>11.420</td>\n",
       "      <td>20.380</td>\n",
       "      <td>77.580</td>\n",
       "      <td>386.100</td>\n",
       "      <td>0.142</td>\n",
       "      <td>0.284</td>\n",
       "      <td>0.241</td>\n",
       "      <td>0.105</td>\n",
       "      <td>0.260</td>\n",
       "      <td>0.097</td>\n",
       "      <td>0.496</td>\n",
       "      <td>1.156</td>\n",
       "      <td>3.445</td>\n",
       "      <td>27.230</td>\n",
       "      <td>0.009</td>\n",
       "      <td>0.075</td>\n",
       "      <td>0.057</td>\n",
       "      <td>0.019</td>\n",
       "      <td>0.060</td>\n",
       "      <td>0.009</td>\n",
       "      <td>14.910</td>\n",
       "      <td>26.500</td>\n",
       "      <td>98.870</td>\n",
       "      <td>567.700</td>\n",
       "      <td>0.210</td>\n",
       "      <td>0.866</td>\n",
       "      <td>0.687</td>\n",
       "      <td>0.258</td>\n",
       "      <td>0.664</td>\n",
       "      <td>0.173</td>\n",
       "      <td>NaN</td>\n",
       "      <td>1</td>\n",
       "    </tr>\n",
       "    <tr>\n",
       "      <th>84358402</th>\n",
       "      <td>20.290</td>\n",
       "      <td>14.340</td>\n",
       "      <td>135.100</td>\n",
       "      <td>1297.000</td>\n",
       "      <td>0.100</td>\n",
       "      <td>0.133</td>\n",
       "      <td>0.198</td>\n",
       "      <td>0.104</td>\n",
       "      <td>0.181</td>\n",
       "      <td>0.059</td>\n",
       "      <td>0.757</td>\n",
       "      <td>0.781</td>\n",
       "      <td>5.438</td>\n",
       "      <td>94.440</td>\n",
       "      <td>0.011</td>\n",
       "      <td>0.025</td>\n",
       "      <td>0.057</td>\n",
       "      <td>0.019</td>\n",
       "      <td>0.018</td>\n",
       "      <td>0.005</td>\n",
       "      <td>22.540</td>\n",
       "      <td>16.670</td>\n",
       "      <td>152.200</td>\n",
       "      <td>1575.000</td>\n",
       "      <td>0.137</td>\n",
       "      <td>0.205</td>\n",
       "      <td>0.400</td>\n",
       "      <td>0.163</td>\n",
       "      <td>0.236</td>\n",
       "      <td>0.077</td>\n",
       "      <td>NaN</td>\n",
       "      <td>1</td>\n",
       "    </tr>\n",
       "  </tbody>\n",
       "</table>\n",
       "</div>"
      ],
      "text/plain": [
       "          radius_mean  texture_mean  perimeter_mean  area_mean  \\\n",
       "id                                                               \n",
       "842302         17.990        10.380         122.800   1001.000   \n",
       "842517         20.570        17.770         132.900   1326.000   \n",
       "84300903       19.690        21.250         130.000   1203.000   \n",
       "84348301       11.420        20.380          77.580    386.100   \n",
       "84358402       20.290        14.340         135.100   1297.000   \n",
       "\n",
       "          smoothness_mean  compactness_mean  concavity_mean  \\\n",
       "id                                                            \n",
       "842302              0.118             0.278           0.300   \n",
       "842517              0.085             0.079           0.087   \n",
       "84300903            0.110             0.160           0.197   \n",
       "84348301            0.142             0.284           0.241   \n",
       "84358402            0.100             0.133           0.198   \n",
       "\n",
       "          concave points_mean  symmetry_mean  fractal_dimension_mean  \\\n",
       "id                                                                     \n",
       "842302                  0.147          0.242                   0.079   \n",
       "842517                  0.070          0.181                   0.057   \n",
       "84300903                0.128          0.207                   0.060   \n",
       "84348301                0.105          0.260                   0.097   \n",
       "84358402                0.104          0.181                   0.059   \n",
       "\n",
       "          radius_se  texture_se  perimeter_se  area_se  smoothness_se  \\\n",
       "id                                                                      \n",
       "842302        1.095       0.905         8.589  153.400          0.006   \n",
       "842517        0.543       0.734         3.398   74.080          0.005   \n",
       "84300903      0.746       0.787         4.585   94.030          0.006   \n",
       "84348301      0.496       1.156         3.445   27.230          0.009   \n",
       "84358402      0.757       0.781         5.438   94.440          0.011   \n",
       "\n",
       "          compactness_se  concavity_se  concave points_se  symmetry_se  \\\n",
       "id                                                                       \n",
       "842302             0.049         0.054              0.016        0.030   \n",
       "842517             0.013         0.019              0.013        0.014   \n",
       "84300903           0.040         0.038              0.021        0.022   \n",
       "84348301           0.075         0.057              0.019        0.060   \n",
       "84358402           0.025         0.057              0.019        0.018   \n",
       "\n",
       "          fractal_dimension_se  radius_worst  texture_worst  perimeter_worst  \\\n",
       "id                                                                             \n",
       "842302                   0.006        25.380         17.330          184.600   \n",
       "842517                   0.004        24.990         23.410          158.800   \n",
       "84300903                 0.005        23.570         25.530          152.500   \n",
       "84348301                 0.009        14.910         26.500           98.870   \n",
       "84358402                 0.005        22.540         16.670          152.200   \n",
       "\n",
       "          area_worst  smoothness_worst  compactness_worst  concavity_worst  \\\n",
       "id                                                                           \n",
       "842302      2019.000             0.162              0.666            0.712   \n",
       "842517      1956.000             0.124              0.187            0.242   \n",
       "84300903    1709.000             0.144              0.424            0.450   \n",
       "84348301     567.700             0.210              0.866            0.687   \n",
       "84358402    1575.000             0.137              0.205            0.400   \n",
       "\n",
       "          concave points_worst  symmetry_worst  fractal_dimension_worst  \\\n",
       "id                                                                        \n",
       "842302                   0.265           0.460                    0.119   \n",
       "842517                   0.186           0.275                    0.089   \n",
       "84300903                 0.243           0.361                    0.088   \n",
       "84348301                 0.258           0.664                    0.173   \n",
       "84358402                 0.163           0.236                    0.077   \n",
       "\n",
       "          Unnamed: 32  diagnosis  \n",
       "id                                \n",
       "842302            NaN          1  \n",
       "842517            NaN          1  \n",
       "84300903          NaN          1  \n",
       "84348301          NaN          1  \n",
       "84358402          NaN          1  "
      ]
     },
     "execution_count": 4,
     "metadata": {},
     "output_type": "execute_result"
    }
   ],
   "source": [
    "# reorder the data, so that the label is in the last column\n",
    "label = df.pop(\"diagnosis\")\n",
    "df[\"diagnosis\"] = label\n",
    "df.head()"
   ]
  },
  {
   "cell_type": "code",
   "execution_count": 5,
   "id": "abeae0a0-0a25-4f73-aa39-2f41e184d11e",
   "metadata": {},
   "outputs": [],
   "source": [
    "# delete the last feature which is unnamed and only contains missing values\n",
    "df.drop(columns=[\"Unnamed: 32\"], inplace=True)"
   ]
  },
  {
   "cell_type": "markdown",
   "id": "eb683021-44e1-400d-b1b1-47856a00eda1",
   "metadata": {},
   "source": [
    "### 1.1 Data Split"
   ]
  },
  {
   "cell_type": "code",
   "execution_count": 6,
   "id": "2e7c6155-0478-4eb2-b6a7-66bf9aa10cc9",
   "metadata": {},
   "outputs": [],
   "source": [
    "# split the data into features and labels\n",
    "X = df.iloc[:, :-1]\n",
    "y = df.iloc[:, -1]\n",
    "\n",
    "# split the data into a train set (85%) and a test set (15%)\n",
    "X_train, X_test, y_train, y_test = train_test_split(X, y, test_size=0.15, random_state=5, stratify=y)"
   ]
  },
  {
   "cell_type": "markdown",
   "id": "104f217b-5a59-4af2-8cec-6e88205e71a1",
   "metadata": {},
   "source": [
    "### 1.2 Metrics"
   ]
  },
  {
   "cell_type": "code",
   "execution_count": 7,
   "id": "9553d11c-2818-4414-87fe-7726d0b1c38a",
   "metadata": {},
   "outputs": [],
   "source": [
    "# define a scoring system that will be used to evaluate model performance\n",
    "scoring = {\n",
    "    'f1': make_scorer(f1_score),\n",
    "    'accuracy': make_scorer(accuracy_score),\n",
    "    'recall': make_scorer(recall_score),\n",
    "    'precision': make_scorer(precision_score)\n",
    "}"
   ]
  },
  {
   "cell_type": "markdown",
   "id": "b75bf995-da85-46b3-b1d5-c63886910a0f",
   "metadata": {},
   "source": [
    "## 2 Model Evaluation (Min-Max Scaler)"
   ]
  },
  {
   "cell_type": "code",
   "execution_count": 8,
   "id": "987eb7e5-eb93-4c11-a671-42749ce6626e",
   "metadata": {},
   "outputs": [
    {
     "name": "stdout",
     "output_type": "stream",
     "text": [
      "Preprocessed the training data.\n",
      "Trained the logistic regression model.\n",
      "Preprocessed the test data.\n",
      "Made predictions for the test data.\n"
     ]
    }
   ],
   "source": [
    "# create a preprocessing pipeline with the best hyperparameters (see \"02_modeling.ipynb\")\n",
    "preprocessing_lr_train_mm = ImbPipeline(steps=[\n",
    "    (\"imputer_adder\", dp.ImputerAdder(imputer=dp.IQRCapper, add_features=dp.AddFeatures(add_interaction=True))),\n",
    "    (\"log\", dp.LogTransformer(transform_all=False)),\n",
    "    (\"scaler\", dp.Scaler(method=\"min_max\")),\n",
    "    (\"feature_selector\", dp.FeatureSelector(selection_type=\"three_best\")),\n",
    "    (\"smote\", SMOTE(random_state=5))\n",
    "])\n",
    "\n",
    "# fit the pipeline to the training set to preprocess it\n",
    "X_train_proc_mm, y_train_proc_mm = preprocessing_lr_train_mm.fit_resample(X_train, y_train)\n",
    "print(\"Preprocessed the training data.\")\n",
    "\n",
    "# initialize a logistic regression model with the best hyperparameters \n",
    "log_reg_mm = LogisticRegression( \n",
    "    random_state=5, \n",
    "    max_iter=1000,\n",
    "    solver=\"saga\",\n",
    "    penalty=\"l1\",\n",
    "    C=1.624\n",
    ")\n",
    "\n",
    "# train the logistic regression model\n",
    "log_reg_mm.fit(X_train_proc_mm, y_train_proc_mm)\n",
    "print(\"Trained the logistic regression model.\")\n",
    "\n",
    "# define a preprocessing pipeline to apply the logistic regression to the unseen test data\n",
    "preprocessing_lr_test_mm = ImbPipeline(steps=[\n",
    "    (\"imputer_adder\", preprocessing_lr_train_mm.named_steps[\"imputer_adder\"]),\n",
    "    (\"log\", preprocessing_lr_train_mm.named_steps[\"log\"]),\n",
    "    (\"scaler\", preprocessing_lr_train_mm.named_steps[\"scaler\"]),\n",
    "    (\"feature_selector\", preprocessing_lr_train_mm.named_steps[\"feature_selector\"])\n",
    "])\n",
    "\n",
    "# apply the preprocessing pipeline to the test data\n",
    "X_test_proc_mm = preprocessing_lr_test_mm.transform(X_test)\n",
    "print(\"Preprocessed the test data.\")\n",
    "\n",
    "# predict the labels for the preprocessed test data\n",
    "y_test_pred_mm = log_reg_mm.predict(X_test_proc_mm)\n",
    "print(\"Made predictions for the test data.\")\n",
    "\n",
    "# predict the probabilities for the preprocessed test data\n",
    "y_test_prob_mm = log_reg_mm.predict_proba(X_test_proc_mm)[:, 1]  # yields the probability for the positive class"
   ]
  },
  {
   "cell_type": "markdown",
   "id": "de875a42-c4f4-4c68-b122-601021b3881b",
   "metadata": {},
   "source": [
    "### 2.1 Classification Report"
   ]
  },
  {
   "cell_type": "code",
   "execution_count": 9,
   "id": "8f786f39-6ace-4f09-9a95-f2d68fc9f840",
   "metadata": {},
   "outputs": [
    {
     "data": {
      "text/html": [
       "<div>\n",
       "<style scoped>\n",
       "    .dataframe tbody tr th:only-of-type {\n",
       "        vertical-align: middle;\n",
       "    }\n",
       "\n",
       "    .dataframe tbody tr th {\n",
       "        vertical-align: top;\n",
       "    }\n",
       "\n",
       "    .dataframe thead th {\n",
       "        text-align: right;\n",
       "    }\n",
       "</style>\n",
       "<table border=\"1\" class=\"dataframe\">\n",
       "  <thead>\n",
       "    <tr style=\"text-align: right;\">\n",
       "      <th></th>\n",
       "      <th>precision</th>\n",
       "      <th>recall</th>\n",
       "      <th>f1-score</th>\n",
       "      <th>support</th>\n",
       "    </tr>\n",
       "  </thead>\n",
       "  <tbody>\n",
       "    <tr>\n",
       "      <th>Benign</th>\n",
       "      <td>1.000</td>\n",
       "      <td>0.981</td>\n",
       "      <td>0.991</td>\n",
       "      <td>54.000</td>\n",
       "    </tr>\n",
       "    <tr>\n",
       "      <th>Malignant</th>\n",
       "      <td>0.970</td>\n",
       "      <td>1.000</td>\n",
       "      <td>0.985</td>\n",
       "      <td>32.000</td>\n",
       "    </tr>\n",
       "    <tr>\n",
       "      <th>accuracy</th>\n",
       "      <td>0.988</td>\n",
       "      <td>0.988</td>\n",
       "      <td>0.988</td>\n",
       "      <td>0.988</td>\n",
       "    </tr>\n",
       "    <tr>\n",
       "      <th>macro avg</th>\n",
       "      <td>0.985</td>\n",
       "      <td>0.991</td>\n",
       "      <td>0.988</td>\n",
       "      <td>86.000</td>\n",
       "    </tr>\n",
       "    <tr>\n",
       "      <th>weighted avg</th>\n",
       "      <td>0.989</td>\n",
       "      <td>0.988</td>\n",
       "      <td>0.988</td>\n",
       "      <td>86.000</td>\n",
       "    </tr>\n",
       "  </tbody>\n",
       "</table>\n",
       "</div>"
      ],
      "text/plain": [
       "              precision  recall  f1-score  support\n",
       "Benign            1.000   0.981     0.991   54.000\n",
       "Malignant         0.970   1.000     0.985   32.000\n",
       "accuracy          0.988   0.988     0.988    0.988\n",
       "macro avg         0.985   0.991     0.988   86.000\n",
       "weighted avg      0.989   0.988     0.988   86.000"
      ]
     },
     "execution_count": 9,
     "metadata": {},
     "output_type": "execute_result"
    }
   ],
   "source": [
    "# calculate a detailed classification report (Kamath & Liu, 2021, pp. 83-89)\n",
    "report = classification_report(y_test, y_test_pred_mm, target_names=[\"Benign\", \"Malignant\"], output_dict=True)\n",
    "\n",
    "# convert the report into a DataFrame\n",
    "report_df = pd.DataFrame(report).transpose()\n",
    "report_df"
   ]
  },
  {
   "cell_type": "markdown",
   "id": "2d62b9e7-81bc-4339-8ee2-e6b363c353ec",
   "metadata": {},
   "source": [
    "Observations\n",
    "* Benign tumors:\n",
    "    * Precision = 1: All tumors classified as benign are actually benign. There are no tumors classified as benign that are actually malignant.\n",
    "    * Recall = 0.981: 98.1% of the actually benign tumors were correctly identified as benign. 1.9% of benign tumors were incorrectly predicted as malignant.\n",
    "    * F1-Score = 0.991: The F1-Score combines precision and recall (Muntean & Militaru, 2023, p. 310) and shows an overall very high performance in the prediction of benign tumors.\n",
    "* Malignant tumors:\n",
    "    * Precision = 0.97: 97% of tumors classified as malignant are actually malignant. 3% of the tumors were incorrectly predicted as malignant although they are benign.\n",
    "    * Recall = 1: The model detects all malignant tumors, which means that no malignant tumors were missed.\n",
    "    * F1-Score = 0.985: Again, the F1-Score is high and shows that the model is good at detecting malignant tumors without making many mistakes.\n",
    "* Accuracy = 0.988: Almost 99% of the predictions are correct.\n",
    "* The unweighted and weighted average for both classes show overall performance values of at least 98%.\n",
    "* Conclusion: The model shows a very high performance overall. Particularly noteworthy is that it is able to correctly detect all malignant tumors (recall = 1). This is crucial in medical applications, as missing malignant tumors can have serious consequences (World Health Organization, 2024, section \"treatment\")."
   ]
  },
  {
   "cell_type": "markdown",
   "id": "30d0cf06-afea-4def-b162-e72a4a6338ba",
   "metadata": {},
   "source": [
    "### 2.2 Odds Ratios"
   ]
  },
  {
   "cell_type": "code",
   "execution_count": 10,
   "id": "7bae4434-489b-494e-8ada-c3d883bcc48d",
   "metadata": {},
   "outputs": [
    {
     "data": {
      "text/html": [
       "<div>\n",
       "<style scoped>\n",
       "    .dataframe tbody tr th:only-of-type {\n",
       "        vertical-align: middle;\n",
       "    }\n",
       "\n",
       "    .dataframe tbody tr th {\n",
       "        vertical-align: top;\n",
       "    }\n",
       "\n",
       "    .dataframe thead th {\n",
       "        text-align: right;\n",
       "    }\n",
       "</style>\n",
       "<table border=\"1\" class=\"dataframe\">\n",
       "  <thead>\n",
       "    <tr style=\"text-align: right;\">\n",
       "      <th></th>\n",
       "      <th>feature</th>\n",
       "      <th>coefficient</th>\n",
       "      <th>Odds Ratio</th>\n",
       "    </tr>\n",
       "  </thead>\n",
       "  <tbody>\n",
       "    <tr>\n",
       "      <th>1</th>\n",
       "      <td>log_area_worst</td>\n",
       "      <td>22.533</td>\n",
       "      <td>6106090466.018</td>\n",
       "    </tr>\n",
       "    <tr>\n",
       "      <th>2</th>\n",
       "      <td>smoothness_worst</td>\n",
       "      <td>8.843</td>\n",
       "      <td>6928.922</td>\n",
       "    </tr>\n",
       "    <tr>\n",
       "      <th>0</th>\n",
       "      <td>texture_mean</td>\n",
       "      <td>4.586</td>\n",
       "      <td>98.116</td>\n",
       "    </tr>\n",
       "  </tbody>\n",
       "</table>\n",
       "</div>"
      ],
      "text/plain": [
       "            feature  coefficient     Odds Ratio\n",
       "1    log_area_worst       22.533 6106090466.018\n",
       "2  smoothness_worst        8.843       6928.922\n",
       "0      texture_mean        4.586         98.116"
      ]
     },
     "execution_count": 10,
     "metadata": {},
     "output_type": "execute_result"
    }
   ],
   "source": [
    "# create a DataFrame containing the model coefficients\n",
    "coefficients = pd.DataFrame({\n",
    "    \"feature\": X_train_proc_mm.columns,\n",
    "    \"coefficient\": log_reg_mm.coef_[0]\n",
    "})\n",
    "\n",
    "# sort Dataframe by coefficient values\n",
    "coefficients = coefficients.sort_values(by=\"coefficient\", ascending=False)\n",
    "\n",
    "# calculate odds ratios (Szumilas, 2010, p. 227)\n",
    "coefficients[\"Odds Ratio\"] = np.exp(coefficients[\"coefficient\"])\n",
    "coefficients"
   ]
  },
  {
   "cell_type": "markdown",
   "id": "48813653-7d68-49f7-8de3-8d4d7028de2f",
   "metadata": {},
   "source": [
    "Observations\n",
    "* The odds ratios of all three features are very high (Chatterjee et al., 2021, p. 3).\n",
    "* One reason for this could be multicollinearity of the features in the model, as this can lead to unstable parameter estimates (Smith et al., 2014, p. 73; Zabor et al., 2022, p. 276). For this reason, the next step was to examine the multicollinearity of the features using the variance inflation factor (VIF). "
   ]
  },
  {
   "cell_type": "code",
   "execution_count": 11,
   "id": "0a0719bd-400b-4538-9b16-d096600e3ab0",
   "metadata": {},
   "outputs": [
    {
     "data": {
      "text/html": [
       "<div>\n",
       "<style scoped>\n",
       "    .dataframe tbody tr th:only-of-type {\n",
       "        vertical-align: middle;\n",
       "    }\n",
       "\n",
       "    .dataframe tbody tr th {\n",
       "        vertical-align: top;\n",
       "    }\n",
       "\n",
       "    .dataframe thead th {\n",
       "        text-align: right;\n",
       "    }\n",
       "</style>\n",
       "<table border=\"1\" class=\"dataframe\">\n",
       "  <thead>\n",
       "    <tr style=\"text-align: right;\">\n",
       "      <th></th>\n",
       "      <th>Feature</th>\n",
       "      <th>VIF</th>\n",
       "    </tr>\n",
       "  </thead>\n",
       "  <tbody>\n",
       "    <tr>\n",
       "      <th>0</th>\n",
       "      <td>texture_mean</td>\n",
       "      <td>6.758</td>\n",
       "    </tr>\n",
       "    <tr>\n",
       "      <th>1</th>\n",
       "      <td>log_area_worst</td>\n",
       "      <td>8.159</td>\n",
       "    </tr>\n",
       "    <tr>\n",
       "      <th>2</th>\n",
       "      <td>smoothness_worst</td>\n",
       "      <td>6.016</td>\n",
       "    </tr>\n",
       "  </tbody>\n",
       "</table>\n",
       "</div>"
      ],
      "text/plain": [
       "            Feature   VIF\n",
       "0      texture_mean 6.758\n",
       "1    log_area_worst 8.159\n",
       "2  smoothness_worst 6.016"
      ]
     },
     "execution_count": 11,
     "metadata": {},
     "output_type": "execute_result"
    }
   ],
   "source": [
    "# calculate the VIFs\n",
    "vif_data = pd.DataFrame()\n",
    "vif_data[\"Feature\"] = X_train_proc_mm.columns\n",
    "vif_data[\"VIF\"] = [variance_inflation_factor(X_train_proc_mm.values, i) for i in range(X_train_proc_mm.shape[1])]\n",
    "vif_data"
   ]
  },
  {
   "cell_type": "markdown",
   "id": "9202b45d-86a3-4986-9caf-034de1d4e21c",
   "metadata": {},
   "source": [
    "Observations\n",
    "* The VIFs indicate potentially problematic multicollinearity of the features, as all VIF values are above 5 (Akinwande et al., 2015, p. 756).\n",
    "* The use of standardization instead of min-max scaling of the data was able to reduce the multicollinearity of the features and thus also the extremely high parameter estimates (see sections 4.1 and 4.2). For this reason, the results of the logistic regression model using standardization are discussed below. "
   ]
  },
  {
   "cell_type": "markdown",
   "id": "5c1ec180-b2c5-4b93-8f4a-597c7ea83417",
   "metadata": {},
   "source": [
    "## 3 Model Evaluation (Standard Scaler)\n",
    "### 3.1 Cross Validation"
   ]
  },
  {
   "cell_type": "code",
   "execution_count": 12,
   "id": "8b9fefce-0e36-45a3-81f9-fb32eca78aed",
   "metadata": {},
   "outputs": [
    {
     "name": "stdout",
     "output_type": "stream",
     "text": [
      "Cross-validation F1-scores: [0.95774648 0.97222222 0.95652174 0.97297297 0.98591549]\n",
      "Mean cross-validation F1-score: 0.9690757812313233\n"
     ]
    }
   ],
   "source": [
    "# perform cross validation for a preprocessing pipeline that uses the standard scaler instead of the min-max scaler\n",
    "pipeline_standard = ImbPipeline(steps=[\n",
    "    (\"imputer_adder\", dp.ImputerAdder(imputer=dp.IQRCapper, add_features=dp.AddFeatures(add_interaction=True))),\n",
    "    (\"log\", dp.LogTransformer(transform_all=False)),\n",
    "    (\"scaler\", dp.Scaler(method=\"standard\")),\n",
    "    (\"feature_selector\", dp.FeatureSelector(selection_type=\"three_best\")),\n",
    "    (\"smote\", SMOTE(random_state=5)),\n",
    "    (\"classifier\", LogisticRegression(random_state=5, max_iter=1000, solver=\"saga\", penalty=\"l1\", C=1.624))\n",
    "])\n",
    "\n",
    "# calculate the F1-scores for each split and the mean F1-score\n",
    "scores = cross_val_score(pipeline_standard, X_train, y_train, cv=5, scoring=\"f1\")\n",
    "print(\"Cross-validation F1-scores:\", scores)\n",
    "print(\"Mean cross-validation F1-score:\", scores.mean())"
   ]
  },
  {
   "cell_type": "markdown",
   "id": "44a61eb8-96e8-4e6b-bbda-e5077e76520e",
   "metadata": {},
   "source": [
    "Observations\n",
    "* The F1-scores when using standardization in the data preprocessing pipeline are above 0.95 in every split and thus - like when using of min-max scaling - meet the defined performance criterion.\n",
    "* The average F1-score is even slightly higher when using standardization than when using min-max scaling (average F1-score: 0.966)."
   ]
  },
  {
   "cell_type": "markdown",
   "id": "a3b53562-0762-4c7a-b897-baf73dcdf3a6",
   "metadata": {},
   "source": [
    "### 3.2 Model Evaluation and Error Analysis"
   ]
  },
  {
   "cell_type": "code",
   "execution_count": 13,
   "id": "ec43d73f-c9b3-4cbd-bd17-e8b82069af52",
   "metadata": {},
   "outputs": [
    {
     "name": "stdout",
     "output_type": "stream",
     "text": [
      "Preprocessed the training data.\n",
      "Trained the logistic regression model.\n",
      "Preprocessed the test data.\n",
      "Made predictions for the test data.\n"
     ]
    }
   ],
   "source": [
    "# create a preprocessing pipeline with the best hyperparameters (see \"02_modeling.ipynb\"), but using standardization instead of min-max scaling\n",
    "preprocessing_lr_train = ImbPipeline(steps=[\n",
    "    (\"imputer_adder\", dp.ImputerAdder(imputer=dp.IQRCapper, add_features=dp.AddFeatures(add_interaction=True))),\n",
    "    (\"log\", dp.LogTransformer(transform_all=False)),\n",
    "    (\"scaler\", dp.Scaler(method=\"standard\")),\n",
    "    (\"feature_selector\", dp.FeatureSelector(selection_type=\"three_best\")),\n",
    "    (\"smote\", SMOTE(random_state=5))\n",
    "])\n",
    "\n",
    "# fit the pipeline to the training set to preprocess it\n",
    "X_train_proc, y_train_proc = preprocessing_lr_train.fit_resample(X_train, y_train)\n",
    "print(\"Preprocessed the training data.\")\n",
    "\n",
    "# initialize a logistic regression model with the best hyperparameters \n",
    "log_reg = LogisticRegression( \n",
    "    random_state=5, \n",
    "    max_iter=1000,\n",
    "    solver=\"saga\",\n",
    "    penalty=\"l1\",\n",
    "    C=1.624\n",
    ")\n",
    "\n",
    "# train the logistic regression model\n",
    "log_reg.fit(X_train_proc, y_train_proc)\n",
    "print(\"Trained the logistic regression model.\")\n",
    "\n",
    "# define a preprocessing pipeline to apply the logistic regression to the unseen test data using standardization\n",
    "preprocessing_lr_test = ImbPipeline(steps=[\n",
    "    (\"imputer_adder\", preprocessing_lr_train.named_steps[\"imputer_adder\"]),\n",
    "    (\"log\", preprocessing_lr_train.named_steps[\"log\"]),\n",
    "    (\"scaler\", preprocessing_lr_train.named_steps[\"scaler\"]),\n",
    "    (\"feature_selector\", preprocessing_lr_train.named_steps[\"feature_selector\"])\n",
    "])\n",
    "\n",
    "# apply the preprocessing pipeline to the test data\n",
    "X_test_proc = preprocessing_lr_test.transform(X_test)\n",
    "print(\"Preprocessed the test data.\")\n",
    "\n",
    "# predict the labels for the preprocessed test data\n",
    "y_test_pred = log_reg.predict(X_test_proc)\n",
    "print(\"Made predictions for the test data.\")\n",
    "\n",
    "# predict the probabilities for the preprocessed test data\n",
    "y_test_prob = log_reg.predict_proba(X_test_proc)[:, 1]  # yields the probability for the positive class"
   ]
  },
  {
   "cell_type": "markdown",
   "id": "d5bdd719-76bd-4ecf-afdf-cd50b6143c59",
   "metadata": {},
   "source": [
    "#### 3.2.1 Classification Report"
   ]
  },
  {
   "cell_type": "code",
   "execution_count": 14,
   "id": "9829ca93-300b-4e5a-80dd-ba9d7edffb3e",
   "metadata": {},
   "outputs": [
    {
     "data": {
      "text/html": [
       "<div>\n",
       "<style scoped>\n",
       "    .dataframe tbody tr th:only-of-type {\n",
       "        vertical-align: middle;\n",
       "    }\n",
       "\n",
       "    .dataframe tbody tr th {\n",
       "        vertical-align: top;\n",
       "    }\n",
       "\n",
       "    .dataframe thead th {\n",
       "        text-align: right;\n",
       "    }\n",
       "</style>\n",
       "<table border=\"1\" class=\"dataframe\">\n",
       "  <thead>\n",
       "    <tr style=\"text-align: right;\">\n",
       "      <th></th>\n",
       "      <th>precision</th>\n",
       "      <th>recall</th>\n",
       "      <th>f1-score</th>\n",
       "      <th>support</th>\n",
       "    </tr>\n",
       "  </thead>\n",
       "  <tbody>\n",
       "    <tr>\n",
       "      <th>Benign</th>\n",
       "      <td>1.000</td>\n",
       "      <td>0.981</td>\n",
       "      <td>0.991</td>\n",
       "      <td>54.000</td>\n",
       "    </tr>\n",
       "    <tr>\n",
       "      <th>Malignant</th>\n",
       "      <td>0.970</td>\n",
       "      <td>1.000</td>\n",
       "      <td>0.985</td>\n",
       "      <td>32.000</td>\n",
       "    </tr>\n",
       "    <tr>\n",
       "      <th>accuracy</th>\n",
       "      <td>0.988</td>\n",
       "      <td>0.988</td>\n",
       "      <td>0.988</td>\n",
       "      <td>0.988</td>\n",
       "    </tr>\n",
       "    <tr>\n",
       "      <th>macro avg</th>\n",
       "      <td>0.985</td>\n",
       "      <td>0.991</td>\n",
       "      <td>0.988</td>\n",
       "      <td>86.000</td>\n",
       "    </tr>\n",
       "    <tr>\n",
       "      <th>weighted avg</th>\n",
       "      <td>0.989</td>\n",
       "      <td>0.988</td>\n",
       "      <td>0.988</td>\n",
       "      <td>86.000</td>\n",
       "    </tr>\n",
       "  </tbody>\n",
       "</table>\n",
       "</div>"
      ],
      "text/plain": [
       "              precision  recall  f1-score  support\n",
       "Benign            1.000   0.981     0.991   54.000\n",
       "Malignant         0.970   1.000     0.985   32.000\n",
       "accuracy          0.988   0.988     0.988    0.988\n",
       "macro avg         0.985   0.991     0.988   86.000\n",
       "weighted avg      0.989   0.988     0.988   86.000"
      ]
     },
     "execution_count": 14,
     "metadata": {},
     "output_type": "execute_result"
    }
   ],
   "source": [
    "# calculate a detailed classification report (Kamath & Liu, 2021, pp. 83-89)\n",
    "report = classification_report(y_test, y_test_pred, target_names=[\"Benign\", \"Malignant\"], output_dict=True)\n",
    "\n",
    "# convert the report into a DataFrame\n",
    "report_df = pd.DataFrame(report).transpose()\n",
    "report_df"
   ]
  },
  {
   "cell_type": "markdown",
   "id": "57e3e686-de23-48c8-a3d4-e55170eebbd9",
   "metadata": {},
   "source": [
    "Observations\n",
    "* It is not relevant for the performance of the logistic regression model whether the raw values are preprocessed using the min-max scaler or the standard scaler. The performance is the same in both cases up to at least the third decimal place. "
   ]
  },
  {
   "cell_type": "markdown",
   "id": "e4367fca-9fe0-4f32-b5e4-c716b5b6a172",
   "metadata": {},
   "source": [
    "#### 3.2.2 Discrimination Threshold Tuning"
   ]
  },
  {
   "cell_type": "code",
   "execution_count": 15,
   "id": "48d93931-9894-4771-bf3d-fefb28a8a936",
   "metadata": {},
   "outputs": [
    {
     "data": {
      "image/png": "[encoded data removed]",
      "text/plain": [
       "<Figure size 1000x600 with 1 Axes>"
      ]
     },
     "metadata": {},
     "output_type": "display_data"
    },
    {
     "name": "stdout",
     "output_type": "stream",
     "text": [
      "Best Threshold: 0.556942146102245\n",
      "Best F1-score: 0.9846153846153847\n"
     ]
    },
    {
     "data": {
      "text/html": [
       "<div>\n",
       "<style scoped>\n",
       "    .dataframe tbody tr th:only-of-type {\n",
       "        vertical-align: middle;\n",
       "    }\n",
       "\n",
       "    .dataframe tbody tr th {\n",
       "        vertical-align: top;\n",
       "    }\n",
       "\n",
       "    .dataframe thead th {\n",
       "        text-align: right;\n",
       "    }\n",
       "</style>\n",
       "<table border=\"1\" class=\"dataframe\">\n",
       "  <thead>\n",
       "    <tr style=\"text-align: right;\">\n",
       "      <th></th>\n",
       "      <th>precision</th>\n",
       "      <th>recall</th>\n",
       "      <th>f1-score</th>\n",
       "      <th>support</th>\n",
       "    </tr>\n",
       "  </thead>\n",
       "  <tbody>\n",
       "    <tr>\n",
       "      <th>Benign</th>\n",
       "      <td>1.000</td>\n",
       "      <td>0.981</td>\n",
       "      <td>0.991</td>\n",
       "      <td>54.000</td>\n",
       "    </tr>\n",
       "    <tr>\n",
       "      <th>Malignant</th>\n",
       "      <td>0.970</td>\n",
       "      <td>1.000</td>\n",
       "      <td>0.985</td>\n",
       "      <td>32.000</td>\n",
       "    </tr>\n",
       "    <tr>\n",
       "      <th>accuracy</th>\n",
       "      <td>0.988</td>\n",
       "      <td>0.988</td>\n",
       "      <td>0.988</td>\n",
       "      <td>0.988</td>\n",
       "    </tr>\n",
       "    <tr>\n",
       "      <th>macro avg</th>\n",
       "      <td>0.985</td>\n",
       "      <td>0.991</td>\n",
       "      <td>0.988</td>\n",
       "      <td>86.000</td>\n",
       "    </tr>\n",
       "    <tr>\n",
       "      <th>weighted avg</th>\n",
       "      <td>0.989</td>\n",
       "      <td>0.988</td>\n",
       "      <td>0.988</td>\n",
       "      <td>86.000</td>\n",
       "    </tr>\n",
       "  </tbody>\n",
       "</table>\n",
       "</div>"
      ],
      "text/plain": [
       "              precision  recall  f1-score  support\n",
       "Benign            1.000   0.981     0.991   54.000\n",
       "Malignant         0.970   1.000     0.985   32.000\n",
       "accuracy          0.988   0.988     0.988    0.988\n",
       "macro avg         0.985   0.991     0.988   86.000\n",
       "weighted avg      0.989   0.988     0.988   86.000"
      ]
     },
     "execution_count": 15,
     "metadata": {},
     "output_type": "execute_result"
    }
   ],
   "source": [
    "# calculate precision, recall, and thresholds\n",
    "precision, recall, thresholds = precision_recall_curve(y_test, y_test_prob)\n",
    "\n",
    "# calculate F1-scores for each threshold\n",
    "f1_scores = [f1_score(y_test, y_test_prob >= t) for t in thresholds]\n",
    "\n",
    "# find the best threshold based on the highest F1-score\n",
    "best_threshold = thresholds[np.argmax(f1_scores)]\n",
    "best_f1 = max(f1_scores)\n",
    "\n",
    "# plot precision, recall, and F1-score against thresholds\n",
    "plt.figure(figsize=(10, 6))\n",
    "plt.plot(thresholds, precision[:-1], label=\"Precision\", color=\"blue\")\n",
    "plt.plot(thresholds, recall[:-1], label=\"Recall\", color=\"green\")\n",
    "plt.plot(thresholds, f1_scores, label=\"F1-score\", color=\"red\")\n",
    "plt.axvline(x=best_threshold, color=\"gray\", linestyle=\"--\", label=f\"Best Threshold (F1 = {best_f1: 0.2f})\")\n",
    "plt.xlabel(\"Threshold\")\n",
    "plt.ylabel(\"Score\")\n",
    "plt.title(\"Precision, Recall, and F1-score vs. Threshold\")\n",
    "plt.legend(loc=\"best\")\n",
    "plt.show()\n",
    "\n",
    "print(f\"Best Threshold: {best_threshold}\")\n",
    "print(f\"Best F1-score: {best_f1}\")\n",
    "\n",
    "# apply the best threshold to make final predictions\n",
    "y_test_pred_best = (y_test_prob >= best_threshold).astype(int)\n",
    "\n",
    "# evaluate the model with the best threshold (Kamath & Liu, 2021, pp. 83-89)\n",
    "report_best = classification_report(y_test, y_test_pred_best, target_names=[\"Benign\", \"Malignant\"], output_dict=True)\n",
    "\n",
    "# convert the report into a DataFrame\n",
    "report_best_df = pd.DataFrame(report_best).transpose()\n",
    "report_best_df"
   ]
  },
  {
   "cell_type": "markdown",
   "id": "55f17d76-056a-4224-a587-d17a0b014518",
   "metadata": {},
   "source": [
    "Observations\n",
    "* The proposed best threshold (0.56) is slightly above the default threshold of 0.5.\n",
    "* However, this does not change the performance values up to and including the third decimal place in the classification report. The threshold is therefore left at 0.5. The fact that the probability of malignancy makes a different prediction above 0.5 than below 0.5 is presumably easier to explain than a change in the prediction at 0.56. "
   ]
  },
  {
   "cell_type": "markdown",
   "id": "6dc0f809-148a-45ff-81bf-c0849fdda3af",
   "metadata": {},
   "source": [
    "#### 3.2.3 Confusion Matrix"
   ]
  },
  {
   "cell_type": "code",
   "execution_count": 16,
   "id": "0fbbe202-3efe-483e-b2f3-d5e9058d734b",
   "metadata": {},
   "outputs": [
    {
     "data": {
      "image/png": "[encoded data removed]",
      "text/plain": [
       "<Figure size 800x600 with 2 Axes>"
      ]
     },
     "metadata": {},
     "output_type": "display_data"
    }
   ],
   "source": [
    "# display the confusion matrix\n",
    "conf_matrix = confusion_matrix(y_test, y_test_pred)\n",
    "\n",
    "# create a heatmap to format the confusion matrix\n",
    "plt.figure(figsize=(8, 6))\n",
    "sns.heatmap(conf_matrix, annot=True, fmt=\"d\", cmap=\"Blues\", xticklabels=[\"Predicted Benign\", \"Predicted Malignant\"], yticklabels=[\"Actual Benign\", \"Actual Malignant\"])\n",
    "plt.xlabel(\"Predicted\")\n",
    "plt.ylabel(\"Actual\")\n",
    "plt.title(\"Confusion Matrix\")\n",
    "plt.show()"
   ]
  },
  {
   "cell_type": "markdown",
   "id": "7fd19469-3081-47c7-81ef-dbeb08cd247f",
   "metadata": {},
   "source": [
    "Observations\n",
    "* All predictions of the model except one are correct.\n",
    "* The incorrect prediction is a false-positive prediction: a benign tumor was incorrectly classified as malignant. In a medical context, such errors are often less fatal than false-negative predictions (World Health Organization, 2024)."
   ]
  },
  {
   "cell_type": "markdown",
   "id": "4fd76b27-4270-41ee-a850-eed14c30ec72",
   "metadata": {},
   "source": [
    "#### 3.2.4 Analysis of Prediction Errors"
   ]
  },
  {
   "cell_type": "code",
   "execution_count": 17,
   "id": "18b211dc-f30b-4113-a387-de8e3e63dcf8",
   "metadata": {},
   "outputs": [
    {
     "data": {
      "text/html": [
       "<div>\n",
       "<style scoped>\n",
       "    .dataframe tbody tr th:only-of-type {\n",
       "        vertical-align: middle;\n",
       "    }\n",
       "\n",
       "    .dataframe tbody tr th {\n",
       "        vertical-align: top;\n",
       "    }\n",
       "\n",
       "    .dataframe thead th {\n",
       "        text-align: right;\n",
       "    }\n",
       "</style>\n",
       "<table border=\"1\" class=\"dataframe\">\n",
       "  <thead>\n",
       "    <tr style=\"text-align: right;\">\n",
       "      <th></th>\n",
       "      <th>texture_mean</th>\n",
       "      <th>log_area_worst</th>\n",
       "      <th>smoothness_worst</th>\n",
       "      <th>classification</th>\n",
       "      <th>probability</th>\n",
       "    </tr>\n",
       "  </thead>\n",
       "  <tbody>\n",
       "    <tr>\n",
       "      <th>42</th>\n",
       "      <td>-1.927</td>\n",
       "      <td>0.300</td>\n",
       "      <td>0.961</td>\n",
       "      <td>false-positive</td>\n",
       "      <td>0.638</td>\n",
       "    </tr>\n",
       "  </tbody>\n",
       "</table>\n",
       "</div>"
      ],
      "text/plain": [
       "    texture_mean  log_area_worst  smoothness_worst  classification  \\\n",
       "42        -1.927           0.300             0.961  false-positive   \n",
       "\n",
       "    probability  \n",
       "42        0.638  "
      ]
     },
     "metadata": {},
     "output_type": "display_data"
    },
    {
     "name": "stdout",
     "output_type": "stream",
     "text": [
      "\n",
      "Mean probabilities per group:\n"
     ]
    },
    {
     "data": {
      "text/html": [
       "<div>\n",
       "<style scoped>\n",
       "    .dataframe tbody tr th:only-of-type {\n",
       "        vertical-align: middle;\n",
       "    }\n",
       "\n",
       "    .dataframe tbody tr th {\n",
       "        vertical-align: top;\n",
       "    }\n",
       "\n",
       "    .dataframe thead th {\n",
       "        text-align: right;\n",
       "    }\n",
       "</style>\n",
       "<table border=\"1\" class=\"dataframe\">\n",
       "  <thead>\n",
       "    <tr style=\"text-align: right;\">\n",
       "      <th></th>\n",
       "      <th>classification</th>\n",
       "      <th>probability</th>\n",
       "    </tr>\n",
       "  </thead>\n",
       "  <tbody>\n",
       "    <tr>\n",
       "      <th>0</th>\n",
       "      <td>correct-benign</td>\n",
       "      <td>0.062</td>\n",
       "    </tr>\n",
       "    <tr>\n",
       "      <th>1</th>\n",
       "      <td>correct-malignant</td>\n",
       "      <td>0.948</td>\n",
       "    </tr>\n",
       "    <tr>\n",
       "      <th>2</th>\n",
       "      <td>false-positive</td>\n",
       "      <td>0.638</td>\n",
       "    </tr>\n",
       "  </tbody>\n",
       "</table>\n",
       "</div>"
      ],
      "text/plain": [
       "      classification  probability\n",
       "0     correct-benign        0.062\n",
       "1  correct-malignant        0.948\n",
       "2     false-positive        0.638"
      ]
     },
     "metadata": {},
     "output_type": "display_data"
    },
    {
     "data": {
      "image/png": "[encoded data removed]",
      "text/plain": [
       "<Figure size 1400x400 with 3 Axes>"
      ]
     },
     "metadata": {},
     "output_type": "display_data"
    }
   ],
   "source": [
    "# create a copy of the preprocessed feature values\n",
    "X_error = X_test_proc.copy()\n",
    "\n",
    "# add an error column to the DataFrame which classifies the predictions as either correct-benign, correct-malignant, false-positive, or false-negative\n",
    "X_error[\"classification\"] = [\"correct-benign\" if true == pred and true == 0 else\n",
    "                             \"correct-malignant\" if true == pred and true == 1 else\n",
    "                             \"false-positive\" if true != pred and true == 0 else\n",
    "                             \"false-negative\" for true, pred in zip(y_test, y_test_pred)]\n",
    "\n",
    "# add the predicted probabilities to the DataFrame\n",
    "X_error[\"probability\"] = y_test_prob\n",
    "\n",
    "# display rows with \"false-positive\" errors\n",
    "false_positive = X_error[X_error[\"classification\"] == \"false-positive\"]\n",
    "display(false_positive)\n",
    "\n",
    "# display mean probabilities in each group\n",
    "print(\"\\nMean probabilities per group:\")\n",
    "error_prob_means = X_error.groupby(\"classification\")[\"probability\"].mean().reset_index()\n",
    "display(error_prob_means)\n",
    "\n",
    "# get the list of feature names from the processed test set\n",
    "features = X_test_proc.columns.tolist()\n",
    "\n",
    "# plot scatter plots\n",
    "plt.figure(figsize=(14, 4))\n",
    "palette={\"correct-benign\": \"lightgreen\", \"correct-malignant\": \"darkgreen\", \"false-positive\": \"red\", \"false_negative\": \"orange\"}\n",
    "\n",
    "# scatter plot for feature 0 vs feature 1\n",
    "plt.subplot(1, 3, 1)\n",
    "sns.scatterplot(data=X_error, x=features[0], y=features[1], hue=\"classification\", palette=palette)\n",
    "\n",
    "# scatter plot for feature 0 vs feature 2\n",
    "plt.subplot(1, 3, 2)\n",
    "sns.scatterplot(data=X_error, x=features[0], y=features[2], hue=\"classification\", palette=palette)\n",
    "\n",
    "# scatter plot for feature 1 vs feature 2\n",
    "plt.subplot(1, 3, 3)\n",
    "sns.scatterplot(data=X_error, x=features[1], y=features[2], hue=\"classification\", palette=palette)\n",
    "\n",
    "# adjust layout to prevent overlap\n",
    "plt.tight_layout()\n",
    "plt.show()"
   ]
  },
  {
   "cell_type": "markdown",
   "id": "318c0b6a-6434-4963-8b23-0e6f86e1bd83",
   "metadata": {},
   "source": [
    "Observations\n",
    "* In particular, the scatterplot displaying `smoothness_worst` and `log_area_worst` shows that the misclassified tumor is more similar to the values of malignant tumors than to the values of benign tumors.\n",
    "* The probability of malignancy (63.8%) is comparatively low. On average, malignant tumors are correctly predicted with a probability of 94.8%. Accordingly, experts should not rely on the predictions of the model for probabilities that are close to the threshold of 50%. "
   ]
  },
  {
   "cell_type": "markdown",
   "id": "c6c588f8-ed0c-4c63-be9d-af2155f3f8b5",
   "metadata": {},
   "source": [
    "#### 3.2.5 ROC Curve and AUC"
   ]
  },
  {
   "cell_type": "code",
   "execution_count": 18,
   "id": "0b61e07d-d237-43eb-a239-d43b98136faf",
   "metadata": {},
   "outputs": [
    {
     "data": {
      "image/png": "[encoded data removed]",
      "text/plain": [
       "<Figure size 800x600 with 1 Axes>"
      ]
     },
     "metadata": {},
     "output_type": "display_data"
    }
   ],
   "source": [
    "# calculate the receiver operating characteristic (ROC) curve\n",
    "fpr, tpr, _ = roc_curve(y_test, y_test_prob)\n",
    "\n",
    "# calculate the area under the curve (AUC)\n",
    "roc_auc = auc(fpr, tpr)\n",
    "\n",
    "# plot the ROC curve\n",
    "plt.figure(figsize=(8, 6))\n",
    "plt.plot(fpr, tpr, color=\"blue\", lw=2, label=f\"ROC curve (AUC = {roc_auc: 0.4f})\")\n",
    "plt.plot([0, 1], [0, 1], color=\"gray\", lw=2, linestyle=\"--\")\n",
    "plt.xlim([-0.05, 1.0])\n",
    "plt.ylim([0.0, 1.05])\n",
    "plt.xlabel(\"False Positive Rate\")\n",
    "plt.ylabel(\"True Positive Rate\")\n",
    "plt.title(\"Receiver Operating Characteristic (ROC) Curve\")\n",
    "plt.legend(loc=\"lower right\")\n",
    "plt.savefig(\"figures/ROC-curve.pdf\")\n",
    "plt.savefig(\"figures/ROC-curve.png\")\n",
    "plt.show()"
   ]
  },
  {
   "cell_type": "markdown",
   "id": "10f9da98-f466-4386-97a3-21aa753fd8f0",
   "metadata": {},
   "source": [
    "Observations\n",
    "* The ROC curve is very close to the upper left corner, which indicates a high quality of the model (Kamath & Liu, 2021, p. 86). The true positive rate is high while the false positive rate is simultaneously low.\n",
    "* The AUC value of the model is also very high at 99.88%. This indicates a high generalizability of the model (Kamath & Liu, 2021, p. 86). "
   ]
  },
  {
   "cell_type": "markdown",
   "id": "0c9ecac6-2dbc-431d-b2e8-7ba98c934050",
   "metadata": {},
   "source": [
    "#### 3.2.6 Precision-Recall Curve"
   ]
  },
  {
   "cell_type": "code",
   "execution_count": 19,
   "id": "3a07ce1b-d5bb-4643-b270-f782c0622c7b",
   "metadata": {},
   "outputs": [
    {
     "data": {
      "image/png": "[encoded data removed]",
      "text/plain": [
       "<Figure size 800x600 with 1 Axes>"
      ]
     },
     "metadata": {},
     "output_type": "display_data"
    }
   ],
   "source": [
    "# calculate the average precision score\n",
    "avg_precision = average_precision_score(y_test, y_test_prob)\n",
    "\n",
    "# calculate the proportion of positive instances in the dataset\n",
    "positive_ratio = np.sum(y_test) / len(y_test)\n",
    "\n",
    "# plot the precision-recall curve\n",
    "plt.figure(figsize=(8, 6))\n",
    "plt.plot(recall, precision, color=\"blue\", lw=2, label=f\"Precision-Recall curve (AP = {avg_precision: 0.4f})\")\n",
    "plt.axhline(y=positive_ratio, color=\"gray\", linestyle=\"--\", label=f\"Random Classifier (AP = {positive_ratio: 0.2f})\")\n",
    "plt.xlabel(\"Recall\")\n",
    "plt.ylabel(\"Precision\")\n",
    "plt.title(\"Precision-Recall Curve\")\n",
    "plt.legend(loc=\"best\")\n",
    "plt.savefig(\"figures/precision_recall_curve.png\")\n",
    "plt.savefig(\"figures/precision_recall_curve.pdf\")\n",
    "plt.show()"
   ]
  },
  {
   "cell_type": "markdown",
   "id": "e922a6ef-334b-40ce-9d3b-b9aa88b0daab",
   "metadata": {},
   "source": [
    "Observations\n",
    "* The area under the precision recall curve - the average precision (AP) - is very high, which also reflects the quality of the model, especially when considering an imbalanced dataset (Kamath & Liu, 2021, p. 87). "
   ]
  },
  {
   "cell_type": "markdown",
   "id": "f31c304b-5f56-41a6-90ec-54b39de90f58",
   "metadata": {},
   "source": [
    "### 4 Model Interpretation\n",
    "#### 4.1 Feature Coefficients and Feature Importance"
   ]
  },
  {
   "cell_type": "code",
   "execution_count": 20,
   "id": "9e604943-126e-48f0-b61a-d3140ddf56c5",
   "metadata": {},
   "outputs": [
    {
     "data": {
      "image/png": "[encoded data removed]",
      "text/plain": [
       "<Figure size 1000x600 with 1 Axes>"
      ]
     },
     "metadata": {},
     "output_type": "display_data"
    }
   ],
   "source": [
    "# create a DataFrame containing the model coefficients\n",
    "coefficients = pd.DataFrame({\n",
    "    \"feature\": X_train_proc.columns,\n",
    "    \"coefficient\": log_reg.coef_[0]\n",
    "})\n",
    "\n",
    "# sort Dataframe by coefficient values\n",
    "coefficients = coefficients.sort_values(by=\"coefficient\", ascending=False)\n",
    "\n",
    "# visualize feature importance\n",
    "plt.figure(figsize=(10, 6))\n",
    "sns.barplot(x=\"coefficient\", y=\"feature\", data=coefficients)\n",
    "plt.title(\"Feature coefficients of the logistic regression model\")\n",
    "plt.show()"
   ]
  },
  {
   "cell_type": "markdown",
   "id": "de5660e2-d375-415f-a4ca-09f6ff5bf674",
   "metadata": {},
   "source": [
    "Observations\n",
    "* All three feature coefficients are positive, so it can be assumed that an increase in the three features increases the probability of the model classifying the tumor as malignant (Molnar, 2019, p. 58). \n",
    "* The feature `log_area_worst` has by far the largest coefficient and therefore has the greatest influence on the model prediction. An increase in this value greatly increases the probability that the tumor will be predicted as malignant.\n",
    "* The influence of the features `smoothness_worst` and `texture_mean` on the model prediction is significantly lower than the influence of `log_area_worst`, but nonetheless positive. "
   ]
  },
  {
   "cell_type": "code",
   "execution_count": 21,
   "id": "73aaf50b-f975-4e6f-97c2-d8458f779d9c",
   "metadata": {},
   "outputs": [
    {
     "data": {
      "image/png": "[encoded data removed]",
      "text/plain": [
       "<Figure size 800x600 with 1 Axes>"
      ]
     },
     "metadata": {},
     "output_type": "display_data"
    },
    {
     "data": {
      "text/html": [
       "<div>\n",
       "<style scoped>\n",
       "    .dataframe tbody tr th:only-of-type {\n",
       "        vertical-align: middle;\n",
       "    }\n",
       "\n",
       "    .dataframe tbody tr th {\n",
       "        vertical-align: top;\n",
       "    }\n",
       "\n",
       "    .dataframe thead th {\n",
       "        text-align: right;\n",
       "    }\n",
       "</style>\n",
       "<table border=\"1\" class=\"dataframe\">\n",
       "  <thead>\n",
       "    <tr style=\"text-align: right;\">\n",
       "      <th></th>\n",
       "      <th>features</th>\n",
       "      <th>importance</th>\n",
       "      <th>importance_std</th>\n",
       "    </tr>\n",
       "  </thead>\n",
       "  <tbody>\n",
       "    <tr>\n",
       "      <th>1</th>\n",
       "      <td>log_area_worst</td>\n",
       "      <td>0.414</td>\n",
       "      <td>0.021</td>\n",
       "    </tr>\n",
       "    <tr>\n",
       "      <th>2</th>\n",
       "      <td>smoothness_worst</td>\n",
       "      <td>0.087</td>\n",
       "      <td>0.007</td>\n",
       "    </tr>\n",
       "    <tr>\n",
       "      <th>0</th>\n",
       "      <td>texture_mean</td>\n",
       "      <td>0.026</td>\n",
       "      <td>0.006</td>\n",
       "    </tr>\n",
       "  </tbody>\n",
       "</table>\n",
       "</div>"
      ],
      "text/plain": [
       "           features  importance  importance_std\n",
       "1    log_area_worst       0.414           0.021\n",
       "2  smoothness_worst       0.087           0.007\n",
       "0      texture_mean       0.026           0.006"
      ]
     },
     "execution_count": 21,
     "metadata": {},
     "output_type": "execute_result"
    }
   ],
   "source": [
    "# calculate the permutation importance on the train set\n",
    "lr_imp = permutation_importance(log_reg, X_train_proc, y_train_proc, n_repeats=10, random_state=5, n_jobs=-1)\n",
    "\n",
    "# display the permutation importance results \n",
    "lr_imp_df = dp.display_permutation_importance(lr_imp, X_train_proc)\n",
    "lr_imp_df"
   ]
  },
  {
   "cell_type": "markdown",
   "id": "1b934ba9-817a-4bc2-804b-6034c9c63e62",
   "metadata": {},
   "source": [
    "Observations\n",
    "* The calculation of the model-agnostic feature importances shows the same pattern as when looking at the feature coefficients: `log_area_worst` contributes the most to the prediction accuracy. When the values of this feature are permuted, the accuracy of the model on the training set decreases by 0.41.\n",
    "* In contrast, permutation of the `texture_mean` values decreases the model accuracy by only 0.03.   "
   ]
  },
  {
   "cell_type": "code",
   "execution_count": 22,
   "id": "3ba6a5c1-fcc0-4a1f-ab6f-18362a73b1aa",
   "metadata": {},
   "outputs": [
    {
     "data": {
      "image/png": "[encoded data removed]",
      "text/plain": [
       "<Figure size 800x600 with 1 Axes>"
      ]
     },
     "metadata": {},
     "output_type": "display_data"
    },
    {
     "data": {
      "text/html": [
       "<div>\n",
       "<style scoped>\n",
       "    .dataframe tbody tr th:only-of-type {\n",
       "        vertical-align: middle;\n",
       "    }\n",
       "\n",
       "    .dataframe tbody tr th {\n",
       "        vertical-align: top;\n",
       "    }\n",
       "\n",
       "    .dataframe thead th {\n",
       "        text-align: right;\n",
       "    }\n",
       "</style>\n",
       "<table border=\"1\" class=\"dataframe\">\n",
       "  <thead>\n",
       "    <tr style=\"text-align: right;\">\n",
       "      <th></th>\n",
       "      <th>features</th>\n",
       "      <th>importance</th>\n",
       "      <th>importance_std</th>\n",
       "    </tr>\n",
       "  </thead>\n",
       "  <tbody>\n",
       "    <tr>\n",
       "      <th>1</th>\n",
       "      <td>log_area_worst</td>\n",
       "      <td>0.351</td>\n",
       "      <td>0.039</td>\n",
       "    </tr>\n",
       "    <tr>\n",
       "      <th>2</th>\n",
       "      <td>smoothness_worst</td>\n",
       "      <td>0.129</td>\n",
       "      <td>0.027</td>\n",
       "    </tr>\n",
       "    <tr>\n",
       "      <th>0</th>\n",
       "      <td>texture_mean</td>\n",
       "      <td>0.076</td>\n",
       "      <td>0.017</td>\n",
       "    </tr>\n",
       "  </tbody>\n",
       "</table>\n",
       "</div>"
      ],
      "text/plain": [
       "           features  importance  importance_std\n",
       "1    log_area_worst       0.351           0.039\n",
       "2  smoothness_worst       0.129           0.027\n",
       "0      texture_mean       0.076           0.017"
      ]
     },
     "execution_count": 22,
     "metadata": {},
     "output_type": "execute_result"
    }
   ],
   "source": [
    "# calculate the permutation importance on the test set\n",
    "lr_imp = permutation_importance(log_reg, X_test_proc, y_test, n_repeats=10, random_state=5, n_jobs=-1)\n",
    "\n",
    "# display the permutation importance results \n",
    "lr_imp_df = dp.display_permutation_importance(lr_imp, X_test_proc)\n",
    "lr_imp_df"
   ]
  },
  {
   "cell_type": "markdown",
   "id": "51a3bee0-92c6-4895-ba4a-909c3e429f17",
   "metadata": {},
   "source": [
    "Observations\n",
    "* When comparing the feature importances calculated based on the training set with those calculated based on the test set, the ranking of the features in terms of importance remains the same.\n",
    "* However, the absolute importance of the features changes: On the test set, a permutation of `log_area_worst` leads to a decrease in model accuracy of 35.1%, compared to 41.4% on the training set.\n",
    "* In contrast, the importance of the other two features is higher on the test set than on the training set. "
   ]
  },
  {
   "cell_type": "markdown",
   "id": "7804bf59-670f-4341-953c-d26cde1b71e9",
   "metadata": {},
   "source": [
    "#### 4.2 Odds Ratios"
   ]
  },
  {
   "cell_type": "code",
   "execution_count": 23,
   "id": "3c4a9b2c-7233-4fce-a67a-c5113c56bdb9",
   "metadata": {},
   "outputs": [
    {
     "data": {
      "text/html": [
       "<div>\n",
       "<style scoped>\n",
       "    .dataframe tbody tr th:only-of-type {\n",
       "        vertical-align: middle;\n",
       "    }\n",
       "\n",
       "    .dataframe tbody tr th {\n",
       "        vertical-align: top;\n",
       "    }\n",
       "\n",
       "    .dataframe thead th {\n",
       "        text-align: right;\n",
       "    }\n",
       "</style>\n",
       "<table border=\"1\" class=\"dataframe\">\n",
       "  <thead>\n",
       "    <tr style=\"text-align: right;\">\n",
       "      <th></th>\n",
       "      <th>feature</th>\n",
       "      <th>coefficient</th>\n",
       "      <th>Odds Ratio</th>\n",
       "    </tr>\n",
       "  </thead>\n",
       "  <tbody>\n",
       "    <tr>\n",
       "      <th>1</th>\n",
       "      <td>log_area_worst</td>\n",
       "      <td>6.367</td>\n",
       "      <td>582.557</td>\n",
       "    </tr>\n",
       "    <tr>\n",
       "      <th>2</th>\n",
       "      <td>smoothness_worst</td>\n",
       "      <td>2.098</td>\n",
       "      <td>8.151</td>\n",
       "    </tr>\n",
       "    <tr>\n",
       "      <th>0</th>\n",
       "      <td>texture_mean</td>\n",
       "      <td>1.157</td>\n",
       "      <td>3.180</td>\n",
       "    </tr>\n",
       "  </tbody>\n",
       "</table>\n",
       "</div>"
      ],
      "text/plain": [
       "            feature  coefficient  Odds Ratio\n",
       "1    log_area_worst        6.367     582.557\n",
       "2  smoothness_worst        2.098       8.151\n",
       "0      texture_mean        1.157       3.180"
      ]
     },
     "execution_count": 23,
     "metadata": {},
     "output_type": "execute_result"
    }
   ],
   "source": [
    "# calculate odds ratios (Szumilas, 2010, p. 227)\n",
    "coefficients[\"Odds Ratio\"] = np.exp(coefficients[\"coefficient\"])\n",
    "coefficients"
   ]
  },
  {
   "cell_type": "markdown",
   "id": "d6c27d91-762b-43c1-9044-830b0b1d0ee9",
   "metadata": {},
   "source": [
    "Observations\n",
    "* The odds ratios of the two features `log_area_worst` and `smoothness_worst` can still be described as large (Chatterjee et al., 2021, p. 3), but they are now considerably smaller than when using min-max scaling.\n",
    "* The higher the values in the three variables, the higher the probability for the tumors to be malignant. For example, the probability that the tumor is malignant is 8.151 times higher with a one-unit increase in `smoothness_worst` than before the increase (Molnar, 2019, p. 58). "
   ]
  },
  {
   "cell_type": "code",
   "execution_count": 24,
   "id": "cc688830-33fb-495c-822a-0dd10d27cfd8",
   "metadata": {},
   "outputs": [
    {
     "data": {
      "text/html": [
       "<div>\n",
       "<style scoped>\n",
       "    .dataframe tbody tr th:only-of-type {\n",
       "        vertical-align: middle;\n",
       "    }\n",
       "\n",
       "    .dataframe tbody tr th {\n",
       "        vertical-align: top;\n",
       "    }\n",
       "\n",
       "    .dataframe thead th {\n",
       "        text-align: right;\n",
       "    }\n",
       "</style>\n",
       "<table border=\"1\" class=\"dataframe\">\n",
       "  <thead>\n",
       "    <tr style=\"text-align: right;\">\n",
       "      <th></th>\n",
       "      <th>Feature</th>\n",
       "      <th>VIF</th>\n",
       "    </tr>\n",
       "  </thead>\n",
       "  <tbody>\n",
       "    <tr>\n",
       "      <th>0</th>\n",
       "      <td>texture_mean</td>\n",
       "      <td>1.148</td>\n",
       "    </tr>\n",
       "    <tr>\n",
       "      <th>1</th>\n",
       "      <td>log_area_worst</td>\n",
       "      <td>1.184</td>\n",
       "    </tr>\n",
       "    <tr>\n",
       "      <th>2</th>\n",
       "      <td>smoothness_worst</td>\n",
       "      <td>1.041</td>\n",
       "    </tr>\n",
       "  </tbody>\n",
       "</table>\n",
       "</div>"
      ],
      "text/plain": [
       "            Feature   VIF\n",
       "0      texture_mean 1.148\n",
       "1    log_area_worst 1.184\n",
       "2  smoothness_worst 1.041"
      ]
     },
     "execution_count": 24,
     "metadata": {},
     "output_type": "execute_result"
    }
   ],
   "source": [
    "# calculate the VIFs\n",
    "vif_data = pd.DataFrame()\n",
    "vif_data[\"Feature\"] = X_train_proc.columns\n",
    "vif_data[\"VIF\"] = [variance_inflation_factor(X_train_proc.values, i) for i in range(X_train_proc.shape[1])]\n",
    "vif_data"
   ]
  },
  {
   "cell_type": "markdown",
   "id": "3c7584a1-34a2-49f4-bdac-0bd03b93de4a",
   "metadata": {},
   "source": [
    "Observations\n",
    "* Similar to the odds ratios, the VIFs of the features are now also significantly smaller than when using min-max scaling.\n",
    "* According to Akinwande et al. (2015, p. 756), there is no problematic multicollinearity of the features and thus the parameter estimates of the logistic regression model should be relatively stable (Smith et al., 2014, p. 73; Zabor et al., 2022, p. 276).  "
   ]
  },
  {
   "cell_type": "markdown",
   "id": "7402a222-b7ee-4807-8f1d-868161abd060",
   "metadata": {},
   "source": [
    "#### 4.3 Prediction Probability Quantiles"
   ]
  },
  {
   "cell_type": "code",
   "execution_count": 25,
   "id": "1c933465-8bdb-40ec-bab5-213746fa5876",
   "metadata": {},
   "outputs": [
    {
     "data": {
      "text/html": [
       "<div>\n",
       "<style scoped>\n",
       "    .dataframe tbody tr th:only-of-type {\n",
       "        vertical-align: middle;\n",
       "    }\n",
       "\n",
       "    .dataframe tbody tr th {\n",
       "        vertical-align: top;\n",
       "    }\n",
       "\n",
       "    .dataframe thead th {\n",
       "        text-align: right;\n",
       "    }\n",
       "</style>\n",
       "<table border=\"1\" class=\"dataframe\">\n",
       "  <thead>\n",
       "    <tr style=\"text-align: right;\">\n",
       "      <th></th>\n",
       "      <th>total_count</th>\n",
       "      <th>benign_count</th>\n",
       "      <th>malignant_count</th>\n",
       "      <th>benign_percentage</th>\n",
       "      <th>malignant_percentage</th>\n",
       "      <th>proba_range</th>\n",
       "    </tr>\n",
       "    <tr>\n",
       "      <th>quantile</th>\n",
       "      <th></th>\n",
       "      <th></th>\n",
       "      <th></th>\n",
       "      <th></th>\n",
       "      <th></th>\n",
       "      <th></th>\n",
       "    </tr>\n",
       "  </thead>\n",
       "  <tbody>\n",
       "    <tr>\n",
       "      <th>0</th>\n",
       "      <td>9</td>\n",
       "      <td>9</td>\n",
       "      <td>0</td>\n",
       "      <td>100.000</td>\n",
       "      <td>0.000</td>\n",
       "      <td>(0.0, 0.0]</td>\n",
       "    </tr>\n",
       "    <tr>\n",
       "      <th>1</th>\n",
       "      <td>9</td>\n",
       "      <td>9</td>\n",
       "      <td>0</td>\n",
       "      <td>100.000</td>\n",
       "      <td>0.000</td>\n",
       "      <td>(0.0, 0.002]</td>\n",
       "    </tr>\n",
       "    <tr>\n",
       "      <th>2</th>\n",
       "      <td>8</td>\n",
       "      <td>8</td>\n",
       "      <td>0</td>\n",
       "      <td>100.000</td>\n",
       "      <td>0.000</td>\n",
       "      <td>(0.002, 0.005]</td>\n",
       "    </tr>\n",
       "    <tr>\n",
       "      <th>3</th>\n",
       "      <td>9</td>\n",
       "      <td>9</td>\n",
       "      <td>0</td>\n",
       "      <td>100.000</td>\n",
       "      <td>0.000</td>\n",
       "      <td>(0.005, 0.035]</td>\n",
       "    </tr>\n",
       "    <tr>\n",
       "      <th>4</th>\n",
       "      <td>8</td>\n",
       "      <td>8</td>\n",
       "      <td>0</td>\n",
       "      <td>100.000</td>\n",
       "      <td>0.000</td>\n",
       "      <td>(0.035, 0.129]</td>\n",
       "    </tr>\n",
       "    <tr>\n",
       "      <th>5</th>\n",
       "      <td>9</td>\n",
       "      <td>9</td>\n",
       "      <td>0</td>\n",
       "      <td>100.000</td>\n",
       "      <td>0.000</td>\n",
       "      <td>(0.129, 0.451]</td>\n",
       "    </tr>\n",
       "    <tr>\n",
       "      <th>6</th>\n",
       "      <td>8</td>\n",
       "      <td>2</td>\n",
       "      <td>6</td>\n",
       "      <td>25.000</td>\n",
       "      <td>75.000</td>\n",
       "      <td>(0.451, 0.939]</td>\n",
       "    </tr>\n",
       "    <tr>\n",
       "      <th>7</th>\n",
       "      <td>9</td>\n",
       "      <td>0</td>\n",
       "      <td>9</td>\n",
       "      <td>0.000</td>\n",
       "      <td>100.000</td>\n",
       "      <td>(0.939, 0.998]</td>\n",
       "    </tr>\n",
       "    <tr>\n",
       "      <th>8</th>\n",
       "      <td>8</td>\n",
       "      <td>0</td>\n",
       "      <td>8</td>\n",
       "      <td>0.000</td>\n",
       "      <td>100.000</td>\n",
       "      <td>(0.998, 1.0]</td>\n",
       "    </tr>\n",
       "    <tr>\n",
       "      <th>9</th>\n",
       "      <td>9</td>\n",
       "      <td>0</td>\n",
       "      <td>9</td>\n",
       "      <td>0.000</td>\n",
       "      <td>100.000</td>\n",
       "      <td>(1.0, 1.0]</td>\n",
       "    </tr>\n",
       "  </tbody>\n",
       "</table>\n",
       "</div>"
      ],
      "text/plain": [
       "          total_count  benign_count  malignant_count  benign_percentage  \\\n",
       "quantile                                                                  \n",
       "0                   9             9                0            100.000   \n",
       "1                   9             9                0            100.000   \n",
       "2                   8             8                0            100.000   \n",
       "3                   9             9                0            100.000   \n",
       "4                   8             8                0            100.000   \n",
       "5                   9             9                0            100.000   \n",
       "6                   8             2                6             25.000   \n",
       "7                   9             0                9              0.000   \n",
       "8                   8             0                8              0.000   \n",
       "9                   9             0                9              0.000   \n",
       "\n",
       "          malignant_percentage     proba_range  \n",
       "quantile                                        \n",
       "0                        0.000      (0.0, 0.0]  \n",
       "1                        0.000    (0.0, 0.002]  \n",
       "2                        0.000  (0.002, 0.005]  \n",
       "3                        0.000  (0.005, 0.035]  \n",
       "4                        0.000  (0.035, 0.129]  \n",
       "5                        0.000  (0.129, 0.451]  \n",
       "6                       75.000  (0.451, 0.939]  \n",
       "7                      100.000  (0.939, 0.998]  \n",
       "8                      100.000    (0.998, 1.0]  \n",
       "9                      100.000      (1.0, 1.0]  "
      ]
     },
     "metadata": {},
     "output_type": "display_data"
    },
    {
     "data": {
      "image/png": "[encoded data removed]",
      "text/plain": [
       "<Figure size 1000x600 with 1 Axes>"
      ]
     },
     "metadata": {},
     "output_type": "display_data"
    }
   ],
   "source": [
    "# split and compare quantiles (Agarwal & Mishra, 2021, p. 52)\n",
    "# create a DataFrame with actual labels and predicted probabilities\n",
    "df_prob = pd.DataFrame({\"y_true\": y_test, \"y_proba\": y_test_prob})\n",
    "\n",
    "# create deciles based on prediction probabilities\n",
    "df_prob[\"quantile\"], quantile_bins = pd.qcut(df_prob[\"y_proba\"], 10, labels=False, retbins=True)\n",
    "\n",
    "# round quantile bins to 3 decimals\n",
    "quantile_bins = np.round(quantile_bins, 3)\n",
    "\n",
    "# calculate the ratio of positive and negative classes in each decile\n",
    "quantile_analysis = df_prob.groupby(\"quantile\", group_keys=False).apply(lambda x: pd.Series({\n",
    "    \"total_count\": len(x),\n",
    "    \"benign_count\": (x[\"y_true\"] == 0).sum(),  # benign (0)\n",
    "    \"malignant_count\": (x[\"y_true\"] == 1).sum()  # malignant (1)\n",
    "})).reset_index()\n",
    "\n",
    "# drop the \"quantile\" column from the index\n",
    "quantile_analysis.set_index(\"quantile\", inplace=True)\n",
    "\n",
    "# calculate the percentage of benign and malignant tumors in each decile\n",
    "quantile_analysis[\"benign_percentage\"] = quantile_analysis[\"benign_count\"] / quantile_analysis[\"total_count\"] * 100\n",
    "quantile_analysis[\"malignant_percentage\"] = quantile_analysis[\"malignant_count\"] / quantile_analysis[\"total_count\"] * 100\n",
    "\n",
    "# add probability ranges (thresholds) of the deciles\n",
    "quantile_analysis[\"proba_range\"] = pd.IntervalIndex.from_breaks(quantile_bins).astype(str)\n",
    "\n",
    "display(quantile_analysis)\n",
    "\n",
    "# visualize distribution in a bar plot\n",
    "fig, ax = plt.subplots(figsize=(10, 6))\n",
    "red = (204/255, 0, 0, 1)\n",
    "quantile_analysis[[\"benign_percentage\", \"malignant_percentage\"]].plot(kind=\"bar\", stacked=True, ax=ax, color=[\"green\", red])\n",
    "\n",
    "ax.set_xticklabels(quantile_analysis[\"proba_range\"], rotation=45, ha=\"right\")\n",
    "plt.title(\"Distribution of Benign and Malignant Tumors Across Deciles\", fontsize=16)\n",
    "plt.xlabel(\"Prediction Probability Range (Decile)\", fontsize=12)\n",
    "plt.ylabel(\"Percentage\", fontsize=12)\n",
    "plt.legend([\"Benign\", \"Malignant\"], loc=\"upper left\")\n",
    "plt.tight_layout()\n",
    "plt.show()"
   ]
  },
  {
   "cell_type": "markdown",
   "id": "162e4d3d-8d25-448c-b7e2-7199b61ae7d9",
   "metadata": {},
   "source": [
    "Observations\n",
    "* Deciles 0 bs 5 (probability 0 to 0.451): Benign tumors (green) dominate, showing that the model correctly classifies mainly benign tumors as such for prediction probabilities below 0.445. At low probabilities, the predictions show a low probability of malignancy, which is consistent with the high prevalence of benign tumors in these deciles.\n",
    "* Decile 6 (probability 0.451 to 0.939): A mixture of benign and malignant tumors (25% benign, 75% malignant) is visible. This is the threshold at which the model predicts both benign and malignant tumors. In this probability range, the model could possibly have difficulties. \n",
    "* Decile 7 to 9 (probability 0.939 to 1.0): Malignant tumors (red) dominate, showing that the model correctly classifies mainly malignant tumors as such in this range. This is consistent with expectation, as high probabilities indicate higher model confidence with respect to malignancy, which is confirmed by the predominance of malignant tumors in these deciles.  "
   ]
  },
  {
   "cell_type": "code",
   "execution_count": 26,
   "id": "3d4b5ef4-1b53-4571-820d-ded7c817f898",
   "metadata": {},
   "outputs": [
    {
     "data": {
      "text/html": [
       "<div>\n",
       "<style scoped>\n",
       "    .dataframe tbody tr th:only-of-type {\n",
       "        vertical-align: middle;\n",
       "    }\n",
       "\n",
       "    .dataframe tbody tr th {\n",
       "        vertical-align: top;\n",
       "    }\n",
       "\n",
       "    .dataframe thead th {\n",
       "        text-align: right;\n",
       "    }\n",
       "</style>\n",
       "<table border=\"1\" class=\"dataframe\">\n",
       "  <thead>\n",
       "    <tr style=\"text-align: right;\">\n",
       "      <th></th>\n",
       "      <th>id</th>\n",
       "      <th>y_true</th>\n",
       "      <th>y_proba</th>\n",
       "      <th>quantile</th>\n",
       "    </tr>\n",
       "  </thead>\n",
       "  <tbody>\n",
       "    <tr>\n",
       "      <th>7</th>\n",
       "      <td>8915</td>\n",
       "      <td>0</td>\n",
       "      <td>0.489</td>\n",
       "      <td>6</td>\n",
       "    </tr>\n",
       "    <tr>\n",
       "      <th>4</th>\n",
       "      <td>889403</td>\n",
       "      <td>1</td>\n",
       "      <td>0.557</td>\n",
       "      <td>6</td>\n",
       "    </tr>\n",
       "    <tr>\n",
       "      <th>6</th>\n",
       "      <td>91979701</td>\n",
       "      <td>1</td>\n",
       "      <td>0.574</td>\n",
       "      <td>6</td>\n",
       "    </tr>\n",
       "    <tr>\n",
       "      <th>3</th>\n",
       "      <td>912600</td>\n",
       "      <td>0</td>\n",
       "      <td>0.638</td>\n",
       "      <td>6</td>\n",
       "    </tr>\n",
       "    <tr>\n",
       "      <th>5</th>\n",
       "      <td>91594602</td>\n",
       "      <td>1</td>\n",
       "      <td>0.805</td>\n",
       "      <td>6</td>\n",
       "    </tr>\n",
       "    <tr>\n",
       "      <th>2</th>\n",
       "      <td>862548</td>\n",
       "      <td>1</td>\n",
       "      <td>0.818</td>\n",
       "      <td>6</td>\n",
       "    </tr>\n",
       "    <tr>\n",
       "      <th>0</th>\n",
       "      <td>886452</td>\n",
       "      <td>1</td>\n",
       "      <td>0.819</td>\n",
       "      <td>6</td>\n",
       "    </tr>\n",
       "    <tr>\n",
       "      <th>1</th>\n",
       "      <td>862717</td>\n",
       "      <td>1</td>\n",
       "      <td>0.923</td>\n",
       "      <td>6</td>\n",
       "    </tr>\n",
       "  </tbody>\n",
       "</table>\n",
       "</div>"
      ],
      "text/plain": [
       "         id  y_true  y_proba  quantile\n",
       "7      8915       0    0.489         6\n",
       "4    889403       1    0.557         6\n",
       "6  91979701       1    0.574         6\n",
       "3    912600       0    0.638         6\n",
       "5  91594602       1    0.805         6\n",
       "2    862548       1    0.818         6\n",
       "0    886452       1    0.819         6\n",
       "1    862717       1    0.923         6"
      ]
     },
     "metadata": {},
     "output_type": "display_data"
    }
   ],
   "source": [
    "# display the exact probabilities in decile 6\n",
    "decile_6 = df_prob[df_prob[\"quantile\"] == 6].reset_index()\n",
    "display(decile_6.sort_values(by=\"y_proba\"))"
   ]
  },
  {
   "cell_type": "markdown",
   "id": "038ed803-6dd6-4e49-96c1-0b4a8018cac2",
   "metadata": {},
   "source": [
    "Observations\n",
    "* The display of decile 6 shows that experts should not rely completely on the model's predictions, especially for probabilities in the range of 0.45 to 0.7. "
   ]
  },
  {
   "cell_type": "markdown",
   "id": "8598f5e9-0ebb-4f49-95e8-8c0cbdfb0ebd",
   "metadata": {},
   "source": [
    "#### 4.4 Counterfactual Explanations"
   ]
  },
  {
   "cell_type": "code",
   "execution_count": 27,
   "id": "55e19307-66a8-4874-ac49-f074d03a3235",
   "metadata": {},
   "outputs": [],
   "source": [
    "# generate counterfactual explanations (Molnar, 2019, pp. 191-193)\n",
    "train_data = X_train_proc.copy()\n",
    "train_data[\"target\"] = y_train_proc\n",
    "\n",
    "# define continuous features\n",
    "continuous_features = X_train_proc.columns.tolist()\n",
    "\n",
    "# create a data object for DiCE\n",
    "dice_data = dice_ml.Data(dataframe=train_data,\n",
    "                         continuous_features=continuous_features,\n",
    "                         outcome_name=\"target\")\n",
    "\n",
    "# define the DiCE model object for the logistic regression\n",
    "dice_model = dice_ml.Model(model=log_reg, backend=\"sklearn\")\n",
    "\n",
    "# initialize the DiCE explainer\n",
    "dice = Dice(dice_data, dice_model)"
   ]
  },
  {
   "cell_type": "markdown",
   "id": "2987b5c4-1719-4a17-92b2-483bb231fd11",
   "metadata": {},
   "source": [
    "##### Counterfactual Explanations for the First Instance"
   ]
  },
  {
   "cell_type": "code",
   "execution_count": 28,
   "id": "ae2b706e-e824-477e-a53d-2caa6857d05d",
   "metadata": {},
   "outputs": [
    {
     "name": "stderr",
     "output_type": "stream",
     "text": [
      "100%|████████████████████████████████████████████████████████████████████████████████████████████████████████████████████████████████████████████████████████████████████████████████████████████████| 1/1 [00:00<00:00, 73.18it/s]\n"
     ]
    },
    {
     "name": "stdout",
     "output_type": "stream",
     "text": [
      "No Counterfactuals found for the given configuration, perhaps try with different parameters... ; total time taken: 00 min 00 sec\n",
      "No counterfactuals found when only varying texture_mean\n"
     ]
    },
    {
     "name": "stderr",
     "output_type": "stream",
     "text": [
      "100%|████████████████████████████████████████████████████████████████████████████████████████████████████████████████████████████████████████████████████████████████████████████████████████████████| 1/1 [00:00<00:00, 45.49it/s]\n"
     ]
    },
    {
     "name": "stdout",
     "output_type": "stream",
     "text": [
      "Diverse Counterfactuals found! total time taken: 00 min 00 sec\n"
     ]
    },
    {
     "name": "stderr",
     "output_type": "stream",
     "text": [
      "100%|████████████████████████████████████████████████████████████████████████████████████████████████████████████████████████████████████████████████████████████████████████████████████████████████| 1/1 [00:00<00:00, 45.52it/s]"
     ]
    },
    {
     "name": "stdout",
     "output_type": "stream",
     "text": [
      "Diverse Counterfactuals found! total time taken: 00 min 00 sec\n",
      "Instance to explain:\n"
     ]
    },
    {
     "name": "stderr",
     "output_type": "stream",
     "text": [
      "\n"
     ]
    },
    {
     "data": {
      "text/html": [
       "<div>\n",
       "<style scoped>\n",
       "    .dataframe tbody tr th:only-of-type {\n",
       "        vertical-align: middle;\n",
       "    }\n",
       "\n",
       "    .dataframe tbody tr th {\n",
       "        vertical-align: top;\n",
       "    }\n",
       "\n",
       "    .dataframe thead th {\n",
       "        text-align: right;\n",
       "    }\n",
       "</style>\n",
       "<table border=\"1\" class=\"dataframe\">\n",
       "  <thead>\n",
       "    <tr style=\"text-align: right;\">\n",
       "      <th></th>\n",
       "      <th>texture_mean</th>\n",
       "      <th>log_area_worst</th>\n",
       "      <th>smoothness_worst</th>\n",
       "      <th>target</th>\n",
       "    </tr>\n",
       "  </thead>\n",
       "  <tbody>\n",
       "    <tr>\n",
       "      <th>0</th>\n",
       "      <td>1.895</td>\n",
       "      <td>-0.884</td>\n",
       "      <td>-1.847</td>\n",
       "      <td>0</td>\n",
       "    </tr>\n",
       "  </tbody>\n",
       "</table>\n",
       "</div>"
      ],
      "text/plain": [
       "   texture_mean  log_area_worst  smoothness_worst  target\n",
       "0         1.895          -0.884            -1.847       0"
      ]
     },
     "metadata": {},
     "output_type": "display_data"
    },
    {
     "name": "stdout",
     "output_type": "stream",
     "text": [
      "\n",
      "Generated counterfactuals:\n"
     ]
    },
    {
     "data": {
      "text/html": [
       "<div>\n",
       "<style scoped>\n",
       "    .dataframe tbody tr th:only-of-type {\n",
       "        vertical-align: middle;\n",
       "    }\n",
       "\n",
       "    .dataframe tbody tr th {\n",
       "        vertical-align: top;\n",
       "    }\n",
       "\n",
       "    .dataframe thead th {\n",
       "        text-align: right;\n",
       "    }\n",
       "</style>\n",
       "<table border=\"1\" class=\"dataframe\">\n",
       "  <thead>\n",
       "    <tr style=\"text-align: right;\">\n",
       "      <th></th>\n",
       "      <th>texture_mean</th>\n",
       "      <th>log_area_worst</th>\n",
       "      <th>smoothness_worst</th>\n",
       "      <th>target</th>\n",
       "      <th>probability</th>\n",
       "      <th>feature_varied</th>\n",
       "    </tr>\n",
       "  </thead>\n",
       "  <tbody>\n",
       "    <tr>\n",
       "      <th>0</th>\n",
       "      <td>1.895</td>\n",
       "      <td>1.794</td>\n",
       "      <td>-1.847</td>\n",
       "      <td>1</td>\n",
       "      <td>1.000</td>\n",
       "      <td>log_area_worst</td>\n",
       "    </tr>\n",
       "    <tr>\n",
       "      <th>1</th>\n",
       "      <td>1.895</td>\n",
       "      <td>0.522</td>\n",
       "      <td>-1.847</td>\n",
       "      <td>1</td>\n",
       "      <td>0.625</td>\n",
       "      <td>log_area_worst</td>\n",
       "    </tr>\n",
       "    <tr>\n",
       "      <th>2</th>\n",
       "      <td>1.895</td>\n",
       "      <td>0.837</td>\n",
       "      <td>-1.847</td>\n",
       "      <td>1</td>\n",
       "      <td>0.925</td>\n",
       "      <td>log_area_worst</td>\n",
       "    </tr>\n",
       "    <tr>\n",
       "      <th>3</th>\n",
       "      <td>1.895</td>\n",
       "      <td>0.994</td>\n",
       "      <td>-1.847</td>\n",
       "      <td>1</td>\n",
       "      <td>0.971</td>\n",
       "      <td>log_area_worst</td>\n",
       "    </tr>\n",
       "    <tr>\n",
       "      <th>4</th>\n",
       "      <td>1.895</td>\n",
       "      <td>0.485</td>\n",
       "      <td>-1.847</td>\n",
       "      <td>1</td>\n",
       "      <td>0.568</td>\n",
       "      <td>log_area_worst</td>\n",
       "    </tr>\n",
       "    <tr>\n",
       "      <th>5</th>\n",
       "      <td>1.895</td>\n",
       "      <td>-0.884</td>\n",
       "      <td>2.566</td>\n",
       "      <td>1</td>\n",
       "      <td>0.694</td>\n",
       "      <td>smoothness_worst</td>\n",
       "    </tr>\n",
       "    <tr>\n",
       "      <th>6</th>\n",
       "      <td>1.895</td>\n",
       "      <td>-0.884</td>\n",
       "      <td>2.401</td>\n",
       "      <td>1</td>\n",
       "      <td>0.616</td>\n",
       "      <td>smoothness_worst</td>\n",
       "    </tr>\n",
       "    <tr>\n",
       "      <th>7</th>\n",
       "      <td>1.895</td>\n",
       "      <td>-0.884</td>\n",
       "      <td>2.449</td>\n",
       "      <td>1</td>\n",
       "      <td>0.639</td>\n",
       "      <td>smoothness_worst</td>\n",
       "    </tr>\n",
       "    <tr>\n",
       "      <th>8</th>\n",
       "      <td>1.895</td>\n",
       "      <td>-0.884</td>\n",
       "      <td>2.294</td>\n",
       "      <td>1</td>\n",
       "      <td>0.561</td>\n",
       "      <td>smoothness_worst</td>\n",
       "    </tr>\n",
       "    <tr>\n",
       "      <th>9</th>\n",
       "      <td>1.895</td>\n",
       "      <td>-0.884</td>\n",
       "      <td>2.461</td>\n",
       "      <td>1</td>\n",
       "      <td>0.645</td>\n",
       "      <td>smoothness_worst</td>\n",
       "    </tr>\n",
       "  </tbody>\n",
       "</table>\n",
       "</div>"
      ],
      "text/plain": [
       "   texture_mean  log_area_worst  smoothness_worst  target  probability  \\\n",
       "0         1.895           1.794            -1.847       1        1.000   \n",
       "1         1.895           0.522            -1.847       1        0.625   \n",
       "2         1.895           0.837            -1.847       1        0.925   \n",
       "3         1.895           0.994            -1.847       1        0.971   \n",
       "4         1.895           0.485            -1.847       1        0.568   \n",
       "5         1.895          -0.884             2.566       1        0.694   \n",
       "6         1.895          -0.884             2.401       1        0.616   \n",
       "7         1.895          -0.884             2.449       1        0.639   \n",
       "8         1.895          -0.884             2.294       1        0.561   \n",
       "9         1.895          -0.884             2.461       1        0.645   \n",
       "\n",
       "     feature_varied  \n",
       "0    log_area_worst  \n",
       "1    log_area_worst  \n",
       "2    log_area_worst  \n",
       "3    log_area_worst  \n",
       "4    log_area_worst  \n",
       "5  smoothness_worst  \n",
       "6  smoothness_worst  \n",
       "7  smoothness_worst  \n",
       "8  smoothness_worst  \n",
       "9  smoothness_worst  "
      ]
     },
     "execution_count": 28,
     "metadata": {},
     "output_type": "execute_result"
    }
   ],
   "source": [
    "# select the first instance from the test set to generate counterfactual explanations\n",
    "first_instance = pd.DataFrame(X_test_proc.iloc[0]).transpose()\n",
    "\n",
    "# generate 5 counterfactuals that change the prediction to the opposite class varying only one feature\n",
    "df_cfs, test_instance = dp.get_counterfactuals(dice, first_instance, total_cfs=5)\n",
    "\n",
    "# display the results\n",
    "print(\"Instance to explain:\")\n",
    "display(test_instance)\n",
    "\n",
    "print(\"\\nGenerated counterfactuals:\")\n",
    "df_cfs"
   ]
  },
  {
   "attachments": {},
   "cell_type": "markdown",
   "id": "e0b673a0-df09-4f76-9725-128c81dc2be1",
   "metadata": {},
   "source": [
    "Observations\n",
    "* The first instance of the test set was originally predicted to be benign. \n",
    "* For the first instance, it was not possible to change the prediction based solely on the variation of `texture_mean`. The prediction only changed with a modification of `smoothness_worst` or `log_area_worst`.\n",
    "* A moderate change of `log_area_worst` to positive (that is, an above-average log-transformed tumor size) can change the prediction of the model for the first instance to malignant. The higher the `log_area_worst`, the more confident the model is in its prediction.\n",
    "* Strong changes in `smoothness_worst` (from almost two standard deviations below the mean to more than two standard deviations above the mean) lead to a change in the model prediction from benign to malignant, but with comparatively low confidence.\n",
    "* This confirms the observed feature importances: `Log_area_worst` has the strongest impact on model predictions, followed by `smoothness_worst` and `texture_mean`. "
   ]
  },
  {
   "cell_type": "markdown",
   "id": "78ff90e2-319f-4eec-8293-83598b53b9bd",
   "metadata": {},
   "source": [
    "##### Counterfactual Explanations for the False Positive Prediction"
   ]
  },
  {
   "cell_type": "code",
   "execution_count": 29,
   "id": "a269da0b-2d4b-4e7d-a0b1-a8c4d32fec5e",
   "metadata": {},
   "outputs": [
    {
     "name": "stderr",
     "output_type": "stream",
     "text": [
      "100%|████████████████████████████████████████████████████████████████████████████████████████████████████████████████████████████████████████████████████████████████████████████████████████████████| 1/1 [00:00<00:00, 83.37it/s]\n"
     ]
    },
    {
     "name": "stdout",
     "output_type": "stream",
     "text": [
      "No Counterfactuals found for the given configuration, perhaps try with different parameters... ; total time taken: 00 min 00 sec\n",
      "No counterfactuals found when only varying texture_mean\n"
     ]
    },
    {
     "name": "stderr",
     "output_type": "stream",
     "text": [
      "100%|████████████████████████████████████████████████████████████████████████████████████████████████████████████████████████████████████████████████████████████████████████████████████████████████| 1/1 [00:00<00:00, 45.53it/s]\n"
     ]
    },
    {
     "name": "stdout",
     "output_type": "stream",
     "text": [
      "Diverse Counterfactuals found! total time taken: 00 min 00 sec\n"
     ]
    },
    {
     "name": "stderr",
     "output_type": "stream",
     "text": [
      "100%|████████████████████████████████████████████████████████████████████████████████████████████████████████████████████████████████████████████████████████████████████████████████████████████████| 1/1 [00:00<00:00, 45.53it/s]"
     ]
    },
    {
     "name": "stdout",
     "output_type": "stream",
     "text": [
      "Diverse Counterfactuals found! total time taken: 00 min 00 sec\n",
      "Instance to explain:\n"
     ]
    },
    {
     "name": "stderr",
     "output_type": "stream",
     "text": [
      "\n"
     ]
    },
    {
     "data": {
      "text/html": [
       "<div>\n",
       "<style scoped>\n",
       "    .dataframe tbody tr th:only-of-type {\n",
       "        vertical-align: middle;\n",
       "    }\n",
       "\n",
       "    .dataframe tbody tr th {\n",
       "        vertical-align: top;\n",
       "    }\n",
       "\n",
       "    .dataframe thead th {\n",
       "        text-align: right;\n",
       "    }\n",
       "</style>\n",
       "<table border=\"1\" class=\"dataframe\">\n",
       "  <thead>\n",
       "    <tr style=\"text-align: right;\">\n",
       "      <th></th>\n",
       "      <th>texture_mean</th>\n",
       "      <th>log_area_worst</th>\n",
       "      <th>smoothness_worst</th>\n",
       "      <th>target</th>\n",
       "    </tr>\n",
       "  </thead>\n",
       "  <tbody>\n",
       "    <tr>\n",
       "      <th>0</th>\n",
       "      <td>-1.927</td>\n",
       "      <td>0.300</td>\n",
       "      <td>0.961</td>\n",
       "      <td>1</td>\n",
       "    </tr>\n",
       "  </tbody>\n",
       "</table>\n",
       "</div>"
      ],
      "text/plain": [
       "   texture_mean  log_area_worst  smoothness_worst  target\n",
       "0        -1.927           0.300             0.961       1"
      ]
     },
     "metadata": {},
     "output_type": "display_data"
    },
    {
     "name": "stdout",
     "output_type": "stream",
     "text": [
      "\n",
      "Generated counterfactuals:\n"
     ]
    },
    {
     "data": {
      "text/html": [
       "<div>\n",
       "<style scoped>\n",
       "    .dataframe tbody tr th:only-of-type {\n",
       "        vertical-align: middle;\n",
       "    }\n",
       "\n",
       "    .dataframe tbody tr th {\n",
       "        vertical-align: top;\n",
       "    }\n",
       "\n",
       "    .dataframe thead th {\n",
       "        text-align: right;\n",
       "    }\n",
       "</style>\n",
       "<table border=\"1\" class=\"dataframe\">\n",
       "  <thead>\n",
       "    <tr style=\"text-align: right;\">\n",
       "      <th></th>\n",
       "      <th>texture_mean</th>\n",
       "      <th>log_area_worst</th>\n",
       "      <th>smoothness_worst</th>\n",
       "      <th>target</th>\n",
       "      <th>probability</th>\n",
       "      <th>feature_varied</th>\n",
       "    </tr>\n",
       "  </thead>\n",
       "  <tbody>\n",
       "    <tr>\n",
       "      <th>0</th>\n",
       "      <td>-1.927</td>\n",
       "      <td>-1.480</td>\n",
       "      <td>0.961</td>\n",
       "      <td>0</td>\n",
       "      <td>0.000</td>\n",
       "      <td>log_area_worst</td>\n",
       "    </tr>\n",
       "    <tr>\n",
       "      <th>1</th>\n",
       "      <td>-1.927</td>\n",
       "      <td>-0.356</td>\n",
       "      <td>0.961</td>\n",
       "      <td>0</td>\n",
       "      <td>0.026</td>\n",
       "      <td>log_area_worst</td>\n",
       "    </tr>\n",
       "    <tr>\n",
       "      <th>2</th>\n",
       "      <td>-1.927</td>\n",
       "      <td>-1.651</td>\n",
       "      <td>0.961</td>\n",
       "      <td>0</td>\n",
       "      <td>0.000</td>\n",
       "      <td>log_area_worst</td>\n",
       "    </tr>\n",
       "    <tr>\n",
       "      <th>3</th>\n",
       "      <td>-1.927</td>\n",
       "      <td>0.009</td>\n",
       "      <td>0.961</td>\n",
       "      <td>0</td>\n",
       "      <td>0.217</td>\n",
       "      <td>log_area_worst</td>\n",
       "    </tr>\n",
       "    <tr>\n",
       "      <th>4</th>\n",
       "      <td>-1.927</td>\n",
       "      <td>-2.530</td>\n",
       "      <td>0.961</td>\n",
       "      <td>0</td>\n",
       "      <td>0.000</td>\n",
       "      <td>log_area_worst</td>\n",
       "    </tr>\n",
       "    <tr>\n",
       "      <th>5</th>\n",
       "      <td>-1.927</td>\n",
       "      <td>0.300</td>\n",
       "      <td>-1.948</td>\n",
       "      <td>0</td>\n",
       "      <td>0.004</td>\n",
       "      <td>smoothness_worst</td>\n",
       "    </tr>\n",
       "    <tr>\n",
       "      <th>6</th>\n",
       "      <td>-1.927</td>\n",
       "      <td>0.300</td>\n",
       "      <td>-0.760</td>\n",
       "      <td>0</td>\n",
       "      <td>0.045</td>\n",
       "      <td>smoothness_worst</td>\n",
       "    </tr>\n",
       "    <tr>\n",
       "      <th>7</th>\n",
       "      <td>-1.927</td>\n",
       "      <td>0.300</td>\n",
       "      <td>-2.078</td>\n",
       "      <td>0</td>\n",
       "      <td>0.003</td>\n",
       "      <td>smoothness_worst</td>\n",
       "    </tr>\n",
       "    <tr>\n",
       "      <th>8</th>\n",
       "      <td>-1.927</td>\n",
       "      <td>0.300</td>\n",
       "      <td>-0.325</td>\n",
       "      <td>0</td>\n",
       "      <td>0.106</td>\n",
       "      <td>smoothness_worst</td>\n",
       "    </tr>\n",
       "    <tr>\n",
       "      <th>9</th>\n",
       "      <td>-1.927</td>\n",
       "      <td>0.300</td>\n",
       "      <td>-0.637</td>\n",
       "      <td>0</td>\n",
       "      <td>0.058</td>\n",
       "      <td>smoothness_worst</td>\n",
       "    </tr>\n",
       "  </tbody>\n",
       "</table>\n",
       "</div>"
      ],
      "text/plain": [
       "   texture_mean  log_area_worst  smoothness_worst  target  probability  \\\n",
       "0        -1.927          -1.480             0.961       0        0.000   \n",
       "1        -1.927          -0.356             0.961       0        0.026   \n",
       "2        -1.927          -1.651             0.961       0        0.000   \n",
       "3        -1.927           0.009             0.961       0        0.217   \n",
       "4        -1.927          -2.530             0.961       0        0.000   \n",
       "5        -1.927           0.300            -1.948       0        0.004   \n",
       "6        -1.927           0.300            -0.760       0        0.045   \n",
       "7        -1.927           0.300            -2.078       0        0.003   \n",
       "8        -1.927           0.300            -0.325       0        0.106   \n",
       "9        -1.927           0.300            -0.637       0        0.058   \n",
       "\n",
       "     feature_varied  \n",
       "0    log_area_worst  \n",
       "1    log_area_worst  \n",
       "2    log_area_worst  \n",
       "3    log_area_worst  \n",
       "4    log_area_worst  \n",
       "5  smoothness_worst  \n",
       "6  smoothness_worst  \n",
       "7  smoothness_worst  \n",
       "8  smoothness_worst  \n",
       "9  smoothness_worst  "
      ]
     },
     "execution_count": 29,
     "metadata": {},
     "output_type": "execute_result"
    }
   ],
   "source": [
    "# select the false positive from the test set to generate counterfactual explanations\n",
    "false_positive_df = false_positive[X_test_proc.columns]\n",
    "\n",
    "# generate 5 counterfactuals that change the prediction to the opposite class varying only one feature\n",
    "df_cfs_fp, test_instance_fp = dp.get_counterfactuals(dice, false_positive_df, total_cfs=5)\n",
    "\n",
    "# display the results\n",
    "print(\"Instance to explain:\")\n",
    "display(test_instance_fp)\n",
    "\n",
    "print(\"\\nGenerated counterfactuals:\")\n",
    "df_cfs_fp"
   ]
  },
  {
   "cell_type": "markdown",
   "id": "657663ed-2eee-4409-a972-5cf131b4f131",
   "metadata": {},
   "source": [
    "Observations\n",
    "* The case to be explained is the case that was incorrectly predicted as malignant.\n",
    "* For this case, it was also not possible to change the prediction from malignant to benign using only a variation in `texture_mean`.\n",
    "* A small reduction in `log_area_worst` from 0.3 to 0.009 would have been sufficient to change the prediction from malignant to benign with relatively high confidence that the tumor was benign (21.7% probability of malignancy).\n",
    "* Even a moderate change in `smoothness_worst` would have changed the model prediction from malignant to benign.\n",
    "* Accordingly, for this instance, the incorrect prediction was probably caused by the slightly above average `log_area_worst` and the slightly above average `smoothness_worst`.    "
   ]
  },
  {
   "cell_type": "markdown",
   "id": "41b25381-8898-49db-a1d8-c211a71f2f05",
   "metadata": {},
   "source": [
    "## III. References\n",
    "Agarwal, S., & Mishra, S. (2021). _Responsible AI: Implementing ethical and unbiased algorithms._ Springer. https://doi.org/10.1007/978-3-030-76860-7\n",
    "\n",
    "Akinwande, M. O., Dikko, H. G., & Samson, A. (2015). Variance inflation factor: As a condition for the inclusion of suppressor variable(s) in regression analysis. _Open Journal of Statistics_, _5_, 754–767. https://doi.org/10.4236/ojs.2015.57075\n",
    "\n",
    "Chatterjee, A., Woodruff, H., Wu, G., & Lambin, P. (2021). Limitations of only reporting the odds ratio in the age of precision medicine: A deterministic simulation study. _Frontiers in Medicine_, _8_, Article 640854. https://doi.org/10.3389/fmed.2021.640854\n",
    "\n",
    "Kamath, U., & Liu, J. (2021). _Explainable artificial intelligence: An introduction to interpretable machine learning_ (1st ed.). Springer. https://doi.org/10.1007/978-3-030-83356-5\n",
    "\n",
    "Molnar, C. (2019). _Interpretable machine learning: A guide for making black box models explainable._ Leanpub. http://leanpub.com/interpretable-machine-learning \n",
    "\n",
    "Muntean, M., & Militaru, F.‑D. (2023). Metrics for Evaluating Classification Algorithms. In C. Ciurea, P. Pocatilu, & F. G. Filip (Eds.), _Smart Innovation, Systems and Technologies: Vol. 321. Education, research and business technologies: Proceedings of 21st International Conference on Informatics in Economy (IE 2022)_ (pp. 307–317). Springer. https://doi.org/10.1007/978-981-19-6755-9_24\n",
    "\n",
    "Smith, M., Li, L., Augustyn, M., Kurmi, O., Chen, J., Collins, R., Guo, Y., Han, Y., Qin, J., Xu, G., Wang, J., Bian, Z., Zhou, G., Peto, R., & Chen, Z. (2014). Prevalence and correlates of airflow obstruction in ∼317000 never-smokers in China. _European Respiratory Journal_, _44_, 66–77. https://doi.org/10.1183/09031936.00152413\n",
    "\n",
    "Szumilas, M. (2010). Explaining odds ratios. _Journal of the Canadian Academy of Child and Adolescent Psychiatry_, _19_(3), 227–229. https://www.ncbi.nlm.nih.gov/pmc/articles/PMC2938757/\n",
    "\n",
    "World Health Organization. (2024, March 13). _Breast cancer._ https://www.who.int/news-room/fact-sheets/detail/breast-cancer\n",
    "\n",
    "Zabor, E. C., Reddy, C. A., Tendulkar, R. D., & Patil, S. (2022). Logistic regression in clinical studies. _International Journal of Radiation Oncology, Biology, Physics_, _112_(2), 271–277. https://doi.org/10.1016/j.ijrobp.2021.08.007"
   ]
  },
  {
   "cell_type": "code",
   "execution_count": null,
   "id": "b6459594-f104-464b-aa4a-9a6529a5558d",
   "metadata": {},
   "outputs": [],
   "source": []
  }
 ],
 "metadata": {
  "kernelspec": {
   "display_name": "Python 3 (ipykernel)",
   "language": "python",
   "name": "python3"
  },
  "language_info": {
   "codemirror_mode": {
    "name": "ipython",
    "version": 3
   },
   "file_extension": ".py",
   "mimetype": "text/x-python",
   "name": "python",
   "nbconvert_exporter": "python",
   "pygments_lexer": "ipython3",
   "version": "3.11.9"
  }
 },
 "nbformat": 4,
 "nbformat_minor": 5
}
